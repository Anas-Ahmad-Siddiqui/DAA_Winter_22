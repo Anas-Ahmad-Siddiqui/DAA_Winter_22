{
  "nbformat": 4,
  "nbformat_minor": 0,
  "metadata": {
    "colab": {
      "name": "arrays_STL.ipynb",
      "provenance": [],
      "collapsed_sections": []
    },
    "kernelspec": {
      "name": "python3",
      "display_name": "Python 3"
    },
    "language_info": {
      "name": "python"
    }
  },
  "cells": [
    {
      "cell_type": "markdown",
      "source": [
        "**Array class**\n",
        "\n",
        "template < class T, size_t N > class array\n",
        "\n",
        "T - Type of the elements contained\n",
        "\n",
        "N - Size of the array, in terms of number of elements"
      ],
      "metadata": {
        "id": "8qApMXWnbF6v"
      }
    },
    {
      "cell_type": "markdown",
      "source": [
        "**Aggregates and PODs in C++**\n",
        "\n",
        "POD is an acronym in C++ that means plain old data. It is a class/struct that ONLY has member variables and no methods, constructors, destructors, virtual functions, etc. For example,\n",
        "\n",
        " #include<iostream>\n",
        "using namespace std;\n",
        "\n",
        "// POD\n",
        "\n",
        "struct MyStruct {\n",
        "\n",
        "   int key;\n",
        "\n",
        "   string data;\n",
        "\n",
        "};\n",
        "\n",
        "int main() {\n",
        "\n",
        "   struct MyStruct s;\n",
        "\n",
        "   s.key = 1;\n",
        "\n",
        "   s.data = \"hello\";\n",
        "\n",
        "   return 0;\n",
        "\n",
        "}\n",
        "\n",
        "An aggregate is an array or a struct/union/class with no user-declared constructors, no private or protected non-static data members, no base classes, and no virtual functions.\n",
        "\n",
        "An aggregate class is called a POD if it has no user-defined copy-assignment operator and destructor and none of its non-static members is a non-POD class, array of non-POD, or a reference."
      ],
      "metadata": {
        "id": "i0Jo5cV6wBHV"
      }
    },
    {
      "cell_type": "markdown",
      "source": [
        "**Characteristics of Arrays**\n",
        "\n",
        "*   Fixed-size sequence containers \n",
        "*   hold a specific number of elements ordered in a strict linear sequence\n",
        "*   efficient in terms of storage size as an ordinary array declared with the language's bracket syntax ([])\n",
        "*   does not keep any data other than the elements it contains (not even its size, which is a template parameter, fixed on compile time)\n",
        "*   merely adds a layer of member and global functions to it, so that arrays can be used as standard containers\n",
        "*    fixed size and do not manage the allocation of its elements through an allocator\n",
        "*   they cannot be expanded or contracted dynamically \n",
        "* Container uses implicit constructors and destructors to allocate the required space statically\n",
        "* Size is compile-time constant. No memory or time overhead."
      ],
      "metadata": {
        "id": "hyF50r5bh9WI"
      }
    },
    {
      "cell_type": "markdown",
      "source": [
        "\n",
        "**Unique Features**\n",
        "\n",
        "*   Swapping two array containers is a linear operation that involves swapping all the elements in the ranges individually, which generally is a considerably less efficient operation\n",
        "* However this allows the iterators to elements in both containers to keep their original container association\n",
        "*    Another unique feature of array containers is that they can be treated as tuple objects: The <array> header overloads the get function to access the elements of the array as if it was a tuple, as well as specialized tuple_size and tuple_element types."
      ],
      "metadata": {
        "id": "2CddzJOniEnb"
      }
    },
    {
      "cell_type": "markdown",
      "source": [
        "**Constructors**\n",
        "\n",
        "* Array classes are aggregate types, and thus have no custom constructors\n",
        "\n",
        "* they can be constructed by means of the special member functions defined implicitly for classes (default, copy, move), or by using initializer lists:\n",
        "\n",
        "* default-initialization: Each of the elements is itself default-initialized. \n",
        "  * For elements of a class type their default constructor is called.\n",
        "  * For elements of fundamental types, they are left uninitialized (unless the array object has static storage, in which case they are zero-initialized).\n",
        "\n",
        "* Copy/move initialization: The elements of an array object of the exact same type (and size) are copied/moved to the constructed array.\n",
        "\n",
        "* Initializer list: The values in the list are taken as initializers for the elements in the array.\n",
        "  * If the list has fewer initializers than elements in the array, the remaining elements are value-initialized (i.e., for class types, the default constructor is called; for fundamental types, they are zero-initialized).\n",
        "  * The initializer list shall not have more initializers than elements.\n",
        "\n",
        "they are initialized in the same way as built-in arrays, except for the following differences:\n",
        "\n",
        "* Size of array objects cannot be determined by the number of initializers in the initializer list. It is always determined by the second template argument.\n",
        "\n",
        "* array objects can be copied/moved (also on assignments).\n",
        "\n"
      ],
      "metadata": {
        "id": "wJfUj9mByBTW"
      }
    },
    {
      "cell_type": "code",
      "source": [
        "%%writefile arrays0.cpp\n",
        "using namespace std;\n",
        "// constructing arrays\n",
        "#include <iostream>\n",
        "#include <array>\n",
        "\n",
        "// default initialization (non-local = static storage):\n",
        "array<int,3> global;               // zero-initialized: {0,0,0}\n",
        "\n",
        "int main ()\n",
        "{\n",
        "  // default initialization (local = automatic storage):\n",
        "  array<int,3> first;              // uninitialized:    {?,?,?}\n",
        "\n",
        "  // initializer-list initializations:\n",
        "  array<int,3> second = {10,20};   // initialized as:   {10,20,0}\n",
        "  array<int,3> third = {1,2,3};    // initialized as:   {1,2,3}\n",
        "\n",
        "  // copy initialization:\n",
        "  array<int,3> fourth = third;     // copy:             {1,2,3}\n",
        "\n",
        "  cout << \"The contents of fourth are:\";\n",
        "  for (auto x:fourth) \n",
        "    cout << ' ' << x;\n",
        "  cout << '\\n';\n",
        "\n",
        "  return 0;\n",
        "}"
      ],
      "metadata": {
        "colab": {
          "base_uri": "https://localhost:8080/"
        },
        "id": "qzx66Sdb0xbh",
        "outputId": "0f709407-74be-4d98-9119-37138a148376"
      },
      "execution_count": null,
      "outputs": [
        {
          "output_type": "stream",
          "name": "stdout",
          "text": [
            "Overwriting arrays0.cpp\n"
          ]
        }
      ]
    },
    {
      "cell_type": "code",
      "source": [
        "%%shell\n",
        "g++ arrays0.cpp\n",
        "./a.out"
      ],
      "metadata": {
        "colab": {
          "base_uri": "https://localhost:8080/"
        },
        "id": "TcpCk3Cc1VoL",
        "outputId": "b2bdfa93-6fa9-4b87-df53-566582a4688c"
      },
      "execution_count": null,
      "outputs": [
        {
          "output_type": "stream",
          "name": "stdout",
          "text": [
            "The contents of fourth are: 1 2 3\n"
          ]
        },
        {
          "output_type": "execute_result",
          "data": {
            "text/plain": [
              ""
            ]
          },
          "metadata": {},
          "execution_count": 4
        }
      ]
    },
    {
      "cell_type": "markdown",
      "source": [
        "**size and max_size**\n",
        "\n",
        "* size - Returns the number of elements in the array container\n",
        "\n",
        "* max_size - maximum number of elements the object can hold as content\n",
        "\n",
        "For arrays, both size and max_size returns second template parameter which is used to instantiate the array template class"
      ],
      "metadata": {
        "id": "g654Br8HhLkz"
      }
    },
    {
      "cell_type": "code",
      "execution_count": null,
      "metadata": {
        "colab": {
          "base_uri": "https://localhost:8080/"
        },
        "id": "QcR2IdyCYc_T",
        "outputId": "64d8b9bf-20ec-4ba0-fe40-2e292326d7b4"
      },
      "outputs": [
        {
          "output_type": "stream",
          "name": "stdout",
          "text": [
            "Overwriting arrays1.cpp\n"
          ]
        }
      ],
      "source": [
        "%%writefile arrays1.cpp\n",
        "\n",
        "#include<iostream>\n",
        "#include<array> \n",
        "\n",
        "using namespace std;\n",
        "int main()\n",
        "{\n",
        "\t// Initializing the array elements\n",
        "\tarray<int,6> ar;\n",
        "  cout<<ar.size()<<endl;\n",
        "\tcout<<ar.max_size()<<endl;\n",
        "\treturn 0;\n",
        "}\n"
      ]
    },
    {
      "cell_type": "code",
      "source": [
        "%%shell\n",
        "g++ arrays1.cpp\n",
        "./a.out"
      ],
      "metadata": {
        "colab": {
          "base_uri": "https://localhost:8080/"
        },
        "id": "T9fsgxJaYoR9",
        "outputId": "eca004ed-15b4-409f-b182-d4bcf29caec1"
      },
      "execution_count": null,
      "outputs": [
        {
          "output_type": "stream",
          "name": "stdout",
          "text": [
            "6\n",
            "6\n"
          ]
        },
        {
          "output_type": "execute_result",
          "data": {
            "text/plain": [
              ""
            ]
          },
          "metadata": {},
          "execution_count": 14
        }
      ]
    },
    {
      "cell_type": "code",
      "source": [
        "%%writefile arrays2.cpp\n",
        "// empty returns true for arrays of zero size\n",
        "#include<iostream>\n",
        "#include<array> \n",
        "\n",
        "using namespace std;\n",
        "int main()\n",
        "{\n",
        "\t// Initializing the array elements\n",
        "\t// array<int,0> ar;\n",
        "  array<int,6> ar;\n",
        "  cout<<ar.empty()<<endl;\t\n",
        "\treturn 0;\n",
        "}\n"
      ],
      "metadata": {
        "colab": {
          "base_uri": "https://localhost:8080/"
        },
        "id": "52u9-IdEkwBf",
        "outputId": "0323467f-e55c-4acf-ddc6-240ecc6cf50b"
      },
      "execution_count": null,
      "outputs": [
        {
          "output_type": "stream",
          "name": "stdout",
          "text": [
            "Overwriting arrays2.cpp\n"
          ]
        }
      ]
    },
    {
      "cell_type": "code",
      "source": [
        "%%shell\n",
        "g++ arrays2.cpp\n",
        "./a.out"
      ],
      "metadata": {
        "colab": {
          "base_uri": "https://localhost:8080/"
        },
        "id": "sDhMPJfBk94y",
        "outputId": "78d83870-83f7-46c1-9774-b76d6a29c59a"
      },
      "execution_count": null,
      "outputs": [
        {
          "output_type": "stream",
          "name": "stdout",
          "text": [
            "1\n"
          ]
        },
        {
          "output_type": "execute_result",
          "data": {
            "text/plain": [
              ""
            ]
          },
          "metadata": {},
          "execution_count": 25
        }
      ]
    },
    {
      "cell_type": "markdown",
      "source": [
        "**Element access in array**\n",
        "\n",
        "* operator[]\n",
        "* at\n",
        "* front\n",
        "* back\n",
        "* data\n",
        "\n"
      ],
      "metadata": {
        "id": "P76QmfX5mStU"
      }
    },
    {
      "cell_type": "code",
      "source": [
        "%%writefile arrays3.cpp\n",
        "// empty returns true for arrays of zero size\n",
        "#include<iostream>\n",
        "#include<array> \n",
        "\n",
        "using namespace std;\n",
        "int main()\n",
        "{\n",
        "\t// Initializing the array elements\n",
        "\t\n",
        "  array<int,6> ar ={1,2,3,4};\n",
        "  cout<<ar.size()<<endl;\n",
        "  cout<<ar[3]<<endl;\t\n",
        "\treturn 0;\n",
        "}\n"
      ],
      "metadata": {
        "colab": {
          "base_uri": "https://localhost:8080/"
        },
        "id": "CPae5zxLm6JS",
        "outputId": "4a5203f2-3ff1-40e2-f767-cf9d46d24249"
      },
      "execution_count": null,
      "outputs": [
        {
          "output_type": "stream",
          "name": "stdout",
          "text": [
            "Overwriting arrays3.cpp\n"
          ]
        }
      ]
    },
    {
      "cell_type": "code",
      "source": [
        "%%shell\n",
        "g++ arrays3.cpp\n",
        "./a.out"
      ],
      "metadata": {
        "colab": {
          "base_uri": "https://localhost:8080/"
        },
        "id": "hvZZqniXnKrh",
        "outputId": "402b63bc-6336-4258-e7ec-f5c9bd1550d0"
      },
      "execution_count": null,
      "outputs": [
        {
          "output_type": "stream",
          "name": "stdout",
          "text": [
            "6\n",
            "4\n"
          ]
        },
        {
          "output_type": "execute_result",
          "data": {
            "text/plain": [
              ""
            ]
          },
          "metadata": {},
          "execution_count": 37
        }
      ]
    },
    {
      "cell_type": "code",
      "source": [
        "%%writefile arrays4.cpp\n",
        "// empty returns true for arrays of zero size\n",
        "#include<iostream>\n",
        "#include<array> \n",
        "\n",
        "using namespace std;\n",
        "int main()\n",
        "{\n",
        "\t// Initializing the array elements\t\n",
        "  array<int,6> ar ={1,2,3,4};\n",
        "  cout<<ar.size()<<endl;\n",
        "  // cout<<ar[5]<<endl;\t\n",
        "  cout<<ar[6]<<endl;\t\n",
        "\treturn 0;\n",
        "}"
      ],
      "metadata": {
        "colab": {
          "base_uri": "https://localhost:8080/"
        },
        "id": "SHKiMdyuYpUw",
        "outputId": "a8cac4a6-5ba6-4e91-b702-14173d04963b"
      },
      "execution_count": null,
      "outputs": [
        {
          "output_type": "stream",
          "name": "stdout",
          "text": [
            "Overwriting arrays4.cpp\n"
          ]
        }
      ]
    },
    {
      "cell_type": "code",
      "source": [
        "%%shell\n",
        "g++ arrays4.cpp\n",
        "./a.out"
      ],
      "metadata": {
        "colab": {
          "base_uri": "https://localhost:8080/"
        },
        "id": "1ZCpkSY4k4iz",
        "outputId": "81581099-b26d-473d-ac0a-f4da1bad6f8e"
      },
      "execution_count": null,
      "outputs": [
        {
          "output_type": "stream",
          "name": "stdout",
          "text": [
            "6\n",
            "1356143872\n"
          ]
        },
        {
          "output_type": "execute_result",
          "data": {
            "text/plain": [
              ""
            ]
          },
          "metadata": {},
          "execution_count": 46
        }
      ]
    },
    {
      "cell_type": "markdown",
      "source": [
        "**[] operator vs at function**\n",
        "\n",
        "* at function checks for bound whereas [] does not\n",
        "* throws an out_of_range exception if index is out of bound"
      ],
      "metadata": {
        "id": "ca4F-Dm_ofe0"
      }
    },
    {
      "cell_type": "code",
      "source": [
        "%%writefile arrays5.cpp\n",
        "// empty returns true for arrays of zero size\n",
        "#include<iostream>\n",
        "#include<array> \n",
        "\n",
        "using namespace std;\n",
        "int main()\n",
        "{\n",
        "\t// Initializing the array elements\n",
        "  array<int,6> ar ={1,2,3,4};\n",
        "  cout<<ar.at(5)<<endl;\t\n",
        "  cout<<ar.at(6)<<endl;\n",
        "\treturn 0;\n",
        " }\n"
      ],
      "metadata": {
        "colab": {
          "base_uri": "https://localhost:8080/"
        },
        "id": "0P0sjYoSoYUp",
        "outputId": "e66737d6-edb9-4919-e3b5-ca779ceca5da"
      },
      "execution_count": null,
      "outputs": [
        {
          "output_type": "stream",
          "name": "stdout",
          "text": [
            "Overwriting arrays5.cpp\n"
          ]
        }
      ]
    },
    {
      "cell_type": "code",
      "source": [
        "%%shell\n",
        "g++ arrays5.cpp\n",
        "./a.out"
      ],
      "metadata": {
        "colab": {
          "base_uri": "https://localhost:8080/",
          "height": 408
        },
        "id": "QoeTuKsTn0fj",
        "outputId": "94162833-6c08-4825-ac21-500a4067d016"
      },
      "execution_count": null,
      "outputs": [
        {
          "output_type": "stream",
          "name": "stdout",
          "text": [
            "\u001b[01m\u001b[Kg++:\u001b[m\u001b[K \u001b[01;31m\u001b[Kerror: \u001b[m\u001b[Karrays5.cpp: No such file or directory\n",
            "\u001b[01m\u001b[Kg++:\u001b[m\u001b[K \u001b[01;31m\u001b[Kfatal error: \u001b[m\u001b[Kno input files\n",
            "compilation terminated.\n",
            "/bin/bash: line 1: ./a.out: No such file or directory\n"
          ]
        },
        {
          "output_type": "error",
          "ename": "CalledProcessError",
          "evalue": "ignored",
          "traceback": [
            "\u001b[0;31m---------------------------------------------------------------------------\u001b[0m",
            "\u001b[0;31mCalledProcessError\u001b[0m                        Traceback (most recent call last)",
            "\u001b[0;32m<ipython-input-1-04f186ffe596>\u001b[0m in \u001b[0;36m<module>\u001b[0;34m()\u001b[0m\n\u001b[0;32m----> 1\u001b[0;31m \u001b[0mget_ipython\u001b[0m\u001b[0;34m(\u001b[0m\u001b[0;34m)\u001b[0m\u001b[0;34m.\u001b[0m\u001b[0mrun_cell_magic\u001b[0m\u001b[0;34m(\u001b[0m\u001b[0;34m'shell'\u001b[0m\u001b[0;34m,\u001b[0m \u001b[0;34m''\u001b[0m\u001b[0;34m,\u001b[0m \u001b[0;34m'g++ arrays5.cpp\\n./a.out'\u001b[0m\u001b[0;34m)\u001b[0m\u001b[0;34m\u001b[0m\u001b[0;34m\u001b[0m\u001b[0m\n\u001b[0m",
            "\u001b[0;32m/usr/local/lib/python3.7/dist-packages/IPython/core/interactiveshell.py\u001b[0m in \u001b[0;36mrun_cell_magic\u001b[0;34m(self, magic_name, line, cell)\u001b[0m\n\u001b[1;32m   2115\u001b[0m             \u001b[0mmagic_arg_s\u001b[0m \u001b[0;34m=\u001b[0m \u001b[0mself\u001b[0m\u001b[0;34m.\u001b[0m\u001b[0mvar_expand\u001b[0m\u001b[0;34m(\u001b[0m\u001b[0mline\u001b[0m\u001b[0;34m,\u001b[0m \u001b[0mstack_depth\u001b[0m\u001b[0;34m)\u001b[0m\u001b[0;34m\u001b[0m\u001b[0;34m\u001b[0m\u001b[0m\n\u001b[1;32m   2116\u001b[0m             \u001b[0;32mwith\u001b[0m \u001b[0mself\u001b[0m\u001b[0;34m.\u001b[0m\u001b[0mbuiltin_trap\u001b[0m\u001b[0;34m:\u001b[0m\u001b[0;34m\u001b[0m\u001b[0;34m\u001b[0m\u001b[0m\n\u001b[0;32m-> 2117\u001b[0;31m                 \u001b[0mresult\u001b[0m \u001b[0;34m=\u001b[0m \u001b[0mfn\u001b[0m\u001b[0;34m(\u001b[0m\u001b[0mmagic_arg_s\u001b[0m\u001b[0;34m,\u001b[0m \u001b[0mcell\u001b[0m\u001b[0;34m)\u001b[0m\u001b[0;34m\u001b[0m\u001b[0;34m\u001b[0m\u001b[0m\n\u001b[0m\u001b[1;32m   2118\u001b[0m             \u001b[0;32mreturn\u001b[0m \u001b[0mresult\u001b[0m\u001b[0;34m\u001b[0m\u001b[0;34m\u001b[0m\u001b[0m\n\u001b[1;32m   2119\u001b[0m \u001b[0;34m\u001b[0m\u001b[0m\n",
            "\u001b[0;32m/usr/local/lib/python3.7/dist-packages/google/colab/_system_commands.py\u001b[0m in \u001b[0;36m_shell_cell_magic\u001b[0;34m(args, cmd)\u001b[0m\n\u001b[1;32m    111\u001b[0m   \u001b[0mresult\u001b[0m \u001b[0;34m=\u001b[0m \u001b[0m_run_command\u001b[0m\u001b[0;34m(\u001b[0m\u001b[0mcmd\u001b[0m\u001b[0;34m,\u001b[0m \u001b[0mclear_streamed_output\u001b[0m\u001b[0;34m=\u001b[0m\u001b[0;32mFalse\u001b[0m\u001b[0;34m)\u001b[0m\u001b[0;34m\u001b[0m\u001b[0;34m\u001b[0m\u001b[0m\n\u001b[1;32m    112\u001b[0m   \u001b[0;32mif\u001b[0m \u001b[0;32mnot\u001b[0m \u001b[0mparsed_args\u001b[0m\u001b[0;34m.\u001b[0m\u001b[0mignore_errors\u001b[0m\u001b[0;34m:\u001b[0m\u001b[0;34m\u001b[0m\u001b[0;34m\u001b[0m\u001b[0m\n\u001b[0;32m--> 113\u001b[0;31m     \u001b[0mresult\u001b[0m\u001b[0;34m.\u001b[0m\u001b[0mcheck_returncode\u001b[0m\u001b[0;34m(\u001b[0m\u001b[0;34m)\u001b[0m\u001b[0;34m\u001b[0m\u001b[0;34m\u001b[0m\u001b[0m\n\u001b[0m\u001b[1;32m    114\u001b[0m   \u001b[0;32mreturn\u001b[0m \u001b[0mresult\u001b[0m\u001b[0;34m\u001b[0m\u001b[0;34m\u001b[0m\u001b[0m\n\u001b[1;32m    115\u001b[0m \u001b[0;34m\u001b[0m\u001b[0m\n",
            "\u001b[0;32m/usr/local/lib/python3.7/dist-packages/google/colab/_system_commands.py\u001b[0m in \u001b[0;36mcheck_returncode\u001b[0;34m(self)\u001b[0m\n\u001b[1;32m    137\u001b[0m     \u001b[0;32mif\u001b[0m \u001b[0mself\u001b[0m\u001b[0;34m.\u001b[0m\u001b[0mreturncode\u001b[0m\u001b[0;34m:\u001b[0m\u001b[0;34m\u001b[0m\u001b[0;34m\u001b[0m\u001b[0m\n\u001b[1;32m    138\u001b[0m       raise subprocess.CalledProcessError(\n\u001b[0;32m--> 139\u001b[0;31m           returncode=self.returncode, cmd=self.args, output=self.output)\n\u001b[0m\u001b[1;32m    140\u001b[0m \u001b[0;34m\u001b[0m\u001b[0m\n\u001b[1;32m    141\u001b[0m   \u001b[0;32mdef\u001b[0m \u001b[0m_repr_pretty_\u001b[0m\u001b[0;34m(\u001b[0m\u001b[0mself\u001b[0m\u001b[0;34m,\u001b[0m \u001b[0mp\u001b[0m\u001b[0;34m,\u001b[0m \u001b[0mcycle\u001b[0m\u001b[0;34m)\u001b[0m\u001b[0;34m:\u001b[0m  \u001b[0;31m# pylint:disable=unused-argument\u001b[0m\u001b[0;34m\u001b[0m\u001b[0;34m\u001b[0m\u001b[0m\n",
            "\u001b[0;31mCalledProcessError\u001b[0m: Command 'g++ arrays5.cpp\n./a.out' returned non-zero exit status 127."
          ]
        }
      ]
    },
    {
      "cell_type": "code",
      "source": [
        "%%writefile arrays5_1.cpp\n",
        "// empty returns true for arrays of zero size\n",
        "#include<iostream>\n",
        "#include<array> \n",
        "\n",
        "using namespace std;\n",
        "int main()\n",
        "{\n",
        "\t// Initializing the array elements\n",
        "  array<int,6> ar ={1,2,3,4};\n",
        "  int& ele = ar.at(5);\t\n",
        "  ele = 100;\n",
        "  cout<<ar.at(5);  \n",
        "\treturn 0;\n",
        " }\n"
      ],
      "metadata": {
        "colab": {
          "base_uri": "https://localhost:8080/"
        },
        "id": "a6V8JyuCHS9C",
        "outputId": "26389e73-250f-4fd3-c8d4-f1cf184fa68e"
      },
      "execution_count": null,
      "outputs": [
        {
          "output_type": "stream",
          "name": "stdout",
          "text": [
            "Writing arrays5_1.cpp\n"
          ]
        }
      ]
    },
    {
      "cell_type": "code",
      "source": [
        "%%shell\n",
        "g++ arrays5_1.cpp\n",
        "./a.out"
      ],
      "metadata": {
        "colab": {
          "base_uri": "https://localhost:8080/"
        },
        "id": "VqNg1AwnHlG9",
        "outputId": "62996b31-e55b-4a0b-f4b1-e3c78dccb151"
      },
      "execution_count": null,
      "outputs": [
        {
          "output_type": "stream",
          "name": "stdout",
          "text": [
            "100"
          ]
        },
        {
          "output_type": "execute_result",
          "data": {
            "text/plain": [
              ""
            ]
          },
          "metadata": {},
          "execution_count": 12
        }
      ]
    },
    {
      "cell_type": "markdown",
      "source": [
        "**Front**\n",
        "\n",
        "Returns a reference to the first element in the array container."
      ],
      "metadata": {
        "id": "69w7ZM7_F4T1"
      }
    },
    {
      "cell_type": "code",
      "source": [
        "%%writefile arrays6.cpp\n",
        "// empty returns true for arrays of zero size\n",
        "#include<iostream>\n",
        "#include<array> \n",
        "using namespace std;\n",
        "int main()\n",
        "{\n",
        "\t// Initializing the array elements\n",
        "  array<int,6> ar ={1,2,3,4};\n",
        "  int ele;\n",
        "  ele = ar.front();\n",
        "  cout<<ele<<endl;\t  \n",
        "\treturn 0;\n",
        " }\n"
      ],
      "metadata": {
        "colab": {
          "base_uri": "https://localhost:8080/"
        },
        "id": "byuNKGi2FxOM",
        "outputId": "5381398c-388f-4c86-985a-5fb349c6e863"
      },
      "execution_count": null,
      "outputs": [
        {
          "output_type": "stream",
          "name": "stdout",
          "text": [
            "Overwriting arrays6.cpp\n"
          ]
        }
      ]
    },
    {
      "cell_type": "code",
      "source": [
        "%%shell\n",
        "g++ arrays6.cpp\n",
        "./a.out"
      ],
      "metadata": {
        "id": "Pd5OC2PiqMVZ",
        "colab": {
          "base_uri": "https://localhost:8080/"
        },
        "outputId": "dcc17992-3902-4554-e107-c6ad453b0b2a"
      },
      "execution_count": null,
      "outputs": [
        {
          "output_type": "stream",
          "name": "stdout",
          "text": [
            "1\n"
          ]
        },
        {
          "output_type": "execute_result",
          "data": {
            "text/plain": [
              ""
            ]
          },
          "metadata": {},
          "execution_count": 6
        }
      ]
    },
    {
      "cell_type": "code",
      "source": [
        "%%writefile arrays7.cpp\n",
        "// empty returns true for arrays of zero size\n",
        "#include<iostream>\n",
        "#include<array> \n",
        "using namespace std;\n",
        "int main()\n",
        "{\n",
        "\t// Initializing the array elements\n",
        "  array<int,6> ar ={1,2,3,4};  \n",
        "  int& ele = ar.front();\n",
        "  ele = 10;\n",
        "  cout<<ar.front()<<endl;\t  \n",
        "\treturn 0;\n",
        " }\n"
      ],
      "metadata": {
        "colab": {
          "base_uri": "https://localhost:8080/"
        },
        "id": "1xOd2DAaG3Ca",
        "outputId": "b6cadb67-efb4-46a8-ea8a-97e38767cb68"
      },
      "execution_count": null,
      "outputs": [
        {
          "output_type": "stream",
          "name": "stdout",
          "text": [
            "Overwriting arrays7.cpp\n"
          ]
        }
      ]
    },
    {
      "cell_type": "code",
      "source": [
        "%%shell\n",
        "g++ arrays7.cpp\n",
        "./a.out"
      ],
      "metadata": {
        "colab": {
          "base_uri": "https://localhost:8080/"
        },
        "id": "mgbMYlN0FHoo",
        "outputId": "4f0578fa-144c-419c-b549-ed38889c26ba"
      },
      "execution_count": null,
      "outputs": [
        {
          "output_type": "stream",
          "name": "stdout",
          "text": [
            "10\n"
          ]
        },
        {
          "output_type": "execute_result",
          "data": {
            "text/plain": [
              ""
            ]
          },
          "metadata": {},
          "execution_count": 10
        }
      ]
    },
    {
      "cell_type": "code",
      "source": [
        "%%writefile arrays8.cpp\n",
        "// empty returns true for arrays of zero size\n",
        "#include<iostream>\n",
        "#include<array> \n",
        "using namespace std;\n",
        "int main()\n",
        "{\n",
        "\t// Initializing the array elements\n",
        "  array<int,6> ar ={1,2,3,4};  \n",
        "  int& ele = ar.back();\n",
        "  ele = 10;\n",
        "  int b = ar.back();\n",
        "  cout<<b<<endl;\t  \n",
        "\treturn 0;\n",
        "}\n"
      ],
      "metadata": {
        "colab": {
          "base_uri": "https://localhost:8080/"
        },
        "id": "xwTxBYMRHp8O",
        "outputId": "7f8e092c-1f1c-490d-c05b-312b6978b33d"
      },
      "execution_count": null,
      "outputs": [
        {
          "output_type": "stream",
          "name": "stdout",
          "text": [
            "Writing arrays8.cpp\n"
          ]
        }
      ]
    },
    {
      "cell_type": "code",
      "source": [
        "%%shell\n",
        "g++ arrays8.cpp\n",
        "./a.out"
      ],
      "metadata": {
        "colab": {
          "base_uri": "https://localhost:8080/"
        },
        "id": "1y0QFgzRFIQz",
        "outputId": "d4e4c4d0-51a1-4a17-8859-3ffe0d5539ed"
      },
      "execution_count": null,
      "outputs": [
        {
          "output_type": "stream",
          "name": "stdout",
          "text": [
            "10\n"
          ]
        },
        {
          "output_type": "execute_result",
          "data": {
            "text/plain": [
              ""
            ]
          },
          "metadata": {},
          "execution_count": 14
        }
      ]
    },
    {
      "cell_type": "markdown",
      "source": [
        "**Data function**\n",
        "* Get pointer to data\n",
        "* Returns a pointer to the first element in the array object.\n",
        "* Because elements in the array are stored in contiguous storage locations, the pointer retrieved can be offset to access any element in the array.\n"
      ],
      "metadata": {
        "id": "yY8p0NkQJMSU"
      }
    },
    {
      "cell_type": "code",
      "source": [
        "%%writefile arrays8_1.cpp\n",
        "// empty returns true for arrays of zero size\n",
        "#include<iostream>\n",
        "#include<array> \n",
        "using namespace std;\n",
        "int main()\n",
        "{\n",
        "\t// Initializing the array elements\n",
        "  array<int,6> ar ={1,2,3,4};  \n",
        "  int* data = ar.data();  \n",
        "  //cout<<data[3]<<endl;\t \n",
        "  cout<<*(data+3)<<endl; \n",
        "\treturn 0;\n",
        "}\n"
      ],
      "metadata": {
        "colab": {
          "base_uri": "https://localhost:8080/"
        },
        "id": "28CKvWa4KPGU",
        "outputId": "611eddc5-89c9-4e13-8fe9-1b8465a15367"
      },
      "execution_count": null,
      "outputs": [
        {
          "output_type": "stream",
          "name": "stdout",
          "text": [
            "Overwriting arrays8_1.cpp\n"
          ]
        }
      ]
    },
    {
      "cell_type": "code",
      "source": [
        "%%shell\n",
        "g++ arrays8_1.cpp\n",
        "./a.out"
      ],
      "metadata": {
        "colab": {
          "base_uri": "https://localhost:8080/"
        },
        "id": "DQVvas4vKhYk",
        "outputId": "094d9d92-3af8-43e6-bc76-1fc83ee32c38"
      },
      "execution_count": null,
      "outputs": [
        {
          "output_type": "stream",
          "name": "stdout",
          "text": [
            "4\n"
          ]
        },
        {
          "output_type": "execute_result",
          "data": {
            "text/plain": [
              ""
            ]
          },
          "metadata": {},
          "execution_count": 25
        }
      ]
    },
    {
      "cell_type": "code",
      "source": [
        "%%writefile arrays9.cpp\n",
        "#include <iostream>\n",
        "#include <cstring>\n",
        "#include <array>\n",
        "int main ()\n",
        "{\n",
        "  const char* cstr = \"Test string\";\n",
        "  std::array<char,12> charray;\n",
        "  //memcpy()  function  copies n bytes from memory area src to memory area dest.\n",
        "  std::memcpy (charray.data(),cstr,12);\n",
        "  std::cout << charray.data() << '\\n';\n",
        "  return 0;\n",
        "}"
      ],
      "metadata": {
        "colab": {
          "base_uri": "https://localhost:8080/"
        },
        "id": "HFpfpJplI9LY",
        "outputId": "0e5158f1-18c2-4ec9-ed41-0c3fe23b2867"
      },
      "execution_count": null,
      "outputs": [
        {
          "output_type": "stream",
          "name": "stdout",
          "text": [
            "Overwriting arrays9.cpp\n"
          ]
        }
      ]
    },
    {
      "cell_type": "markdown",
      "source": [
        "**Iterators**\n",
        "\n",
        "We have got iterators that will move from the beginning or end and constant as well"
      ],
      "metadata": {
        "id": "4xsnE6PG2vbP"
      }
    },
    {
      "cell_type": "markdown",
      "source": [
        "**Begin**\n",
        "\n",
        "Returns an iterator pointing to the first element in the array container.\n",
        "\n",
        "\n"
      ],
      "metadata": {
        "id": "-k8ijcXg3FMK"
      }
    },
    {
      "cell_type": "markdown",
      "source": [
        "**end**\n",
        "\n",
        "Returns an iterator pointing to the past-the-end element in the array container.\n",
        "\n",
        "The past-the-end element is the theoretical element that would follow the last element in the array. It does not point to any element, and thus shall not be dereferenced."
      ],
      "metadata": {
        "id": "rjJbwS_I4oLw"
      }
    },
    {
      "cell_type": "code",
      "source": [
        "%%writefile arrays10.cpp\n",
        "// array::begin example\n",
        "#include <iostream>\n",
        "#include <array>\n",
        "using namespace std;\n",
        "int main ()\n",
        "{\n",
        "  array<int,5> myarray = { 2, 16, 77, 34, 50 };\n",
        "\n",
        "  cout << \"myarray contains:\";\n",
        "  for ( auto it = myarray.begin(); it != myarray.end(); ++it )\n",
        "    cout << ' ' << *it;\n",
        "  cout << '\\n';\n",
        "  auto it = myarray.begin();\n",
        "  cout<<*(it+3);\n",
        "  return 0;\n",
        "}"
      ],
      "metadata": {
        "colab": {
          "base_uri": "https://localhost:8080/"
        },
        "id": "NXrE6f0k3Wd0",
        "outputId": "980fc0b7-b442-4e4c-fb34-f6cfac5578e8"
      },
      "execution_count": null,
      "outputs": [
        {
          "output_type": "stream",
          "name": "stdout",
          "text": [
            "Overwriting arrays10.cpp\n"
          ]
        }
      ]
    },
    {
      "cell_type": "code",
      "source": [
        "%%shell\n",
        "g++ arrays10.cpp\n",
        "./a.out"
      ],
      "metadata": {
        "colab": {
          "base_uri": "https://localhost:8080/"
        },
        "id": "h1Jhiip8FIvS",
        "outputId": "78861499-93e9-49cf-b47e-fe9719dd29bc"
      },
      "execution_count": null,
      "outputs": [
        {
          "output_type": "stream",
          "name": "stdout",
          "text": [
            "myarray contains: 2 16 77 34 50\n",
            "34"
          ]
        },
        {
          "output_type": "execute_result",
          "data": {
            "text/plain": [
              ""
            ]
          },
          "metadata": {},
          "execution_count": 14
        }
      ]
    },
    {
      "cell_type": "markdown",
      "source": [
        "**rbegin**\n",
        "\n",
        "* Return reverse iterator to reverse beginning\n",
        "\n",
        "* Returns a reverse iterator pointing to the last element in the array container.\n",
        "\n",
        "* rbegin points to the element right before the one that would be pointed to by member end."
      ],
      "metadata": {
        "id": "-1tVvHPy5FhK"
      }
    },
    {
      "cell_type": "markdown",
      "source": [
        "**rend**\n",
        "\n",
        "Returns a reverse iterator pointing to the theoretical element preceding the first element in the array (which is considered its reverse end)."
      ],
      "metadata": {
        "id": "iFneAqhu8A8F"
      }
    },
    {
      "cell_type": "code",
      "source": [
        "%%writefile arrays11.cpp\n",
        "// array::rbegin/rend\n",
        "#include <iostream>\n",
        "#include <array>\n",
        "using namespace std;\n",
        "int main ()\n",
        "{\n",
        "  array<int,4> myarray = {4, 26, 80, 14} ;\n",
        "\n",
        "  cout << \"myarray contains:\";\n",
        "  for ( auto rit=myarray.rbegin() ; rit < myarray.rend(); rit++ )\n",
        "    cout << ' ' << *rit;\n",
        "\n",
        "  cout << '\\n';\n",
        "\n",
        "  return 0;\n",
        "}"
      ],
      "metadata": {
        "colab": {
          "base_uri": "https://localhost:8080/"
        },
        "id": "NvesbTypLQ0T",
        "outputId": "fcba7e5c-84c3-4edc-9ed0-8f1eed91f3e9"
      },
      "execution_count": null,
      "outputs": [
        {
          "output_type": "stream",
          "name": "stdout",
          "text": [
            "Overwriting arrays11.cpp\n"
          ]
        }
      ]
    },
    {
      "cell_type": "code",
      "source": [
        "%%shell\n",
        "g++ arrays11.cpp\n",
        "./a.out"
      ],
      "metadata": {
        "colab": {
          "base_uri": "https://localhost:8080/"
        },
        "id": "JaIQ2uDjFJJP",
        "outputId": "9749ed64-35fe-44b8-edf4-d80a12eb06ec"
      },
      "execution_count": null,
      "outputs": [
        {
          "output_type": "stream",
          "name": "stdout",
          "text": [
            "myarray contains: 14 80 26 4\n"
          ]
        },
        {
          "output_type": "execute_result",
          "data": {
            "text/plain": [
              ""
            ]
          },
          "metadata": {},
          "execution_count": 20
        }
      ]
    },
    {
      "cell_type": "markdown",
      "source": [
        "**cbegin**\n",
        "\n",
        "* A const_iterator is an iterator that points to const content. \n",
        "\n",
        "* This iterator can be increased and decreased (unless it is itself also const), just like the iterator returned by array::begin, but it cannot be used to modify the contents it points to, even if the array object is not itself const."
      ],
      "metadata": {
        "id": "PG1RYh2l8QCt"
      }
    },
    {
      "cell_type": "markdown",
      "source": [
        "**cend**\n",
        "\n",
        "Returns a const_iterator pointing to the past-the-end element in the array container."
      ],
      "metadata": {
        "id": "gq1Man2392YQ"
      }
    },
    {
      "cell_type": "code",
      "source": [
        "%%writefile arrays13.cpp\n",
        "// array::cbegin example\n",
        "#include <iostream>\n",
        "#include <array>\n",
        "using namespace std;\n",
        "int main ()\n",
        "{\n",
        "  array<int,5> myarray = { 2, 16, 77, 34, 50 };\n",
        "  cout << \"myarray contains:\";\n",
        "  for ( auto it = myarray.cbegin(); it != myarray.cend(); ++it )\n",
        "    cout << ' ' << *it;   // cannot modify *it\n",
        "   cout << '\\n';\n",
        "  auto *it = myarray.begin();\n",
        "  //auto *it = myarray.cbegin();\n",
        "  *it = 5000;  \n",
        "  cout << \"Modified array contains:\";\n",
        "  for ( auto it = myarray.cbegin(); it != myarray.cend(); ++it )\n",
        "    cout << ' ' << *it;   // cannot modify *it\n",
        "  cout << '\\n';\n",
        "  return 0;\n",
        "}"
      ],
      "metadata": {
        "colab": {
          "base_uri": "https://localhost:8080/"
        },
        "id": "LwnTKYTV89dB",
        "outputId": "19ae9e4f-641a-42e5-8eb0-e71358d903f0"
      },
      "execution_count": null,
      "outputs": [
        {
          "output_type": "stream",
          "name": "stdout",
          "text": [
            "Overwriting arrays13.cpp\n"
          ]
        }
      ]
    },
    {
      "cell_type": "code",
      "source": [
        "%%shell\n",
        "g++ arrays13.cpp\n",
        "./a.out"
      ],
      "metadata": {
        "colab": {
          "base_uri": "https://localhost:8080/"
        },
        "id": "rmDjASirFJll",
        "outputId": "b8211b91-ebd5-44de-f4fc-c5d648fe8c58"
      },
      "execution_count": null,
      "outputs": [
        {
          "output_type": "stream",
          "name": "stdout",
          "text": [
            "myarray contains: 2 16 77 34 50\n",
            "Modified array contains: 5000 16 77 34 50\n"
          ]
        },
        {
          "output_type": "execute_result",
          "data": {
            "text/plain": [
              ""
            ]
          },
          "metadata": {},
          "execution_count": 34
        }
      ]
    },
    {
      "cell_type": "markdown",
      "source": [
        "**crbegin**\n",
        "\n",
        "Returns a const_reverse_iterator pointing to the last element in the array container."
      ],
      "metadata": {
        "id": "0myGT9EqAFjh"
      }
    },
    {
      "cell_type": "markdown",
      "source": [
        "**crend**\n",
        "\n",
        "Returns a const_reverse_iterator pointing to the theoretical element preceding the first element in the vector, which is considered its reverse end"
      ],
      "metadata": {
        "id": "uJmfLQwMAVGl"
      }
    },
    {
      "cell_type": "code",
      "source": [
        "%%writefile arrays14.cpp\n",
        "// array::crbegin/crend\n",
        "#include <iostream>\n",
        "#include <array>\n",
        "using namespace std;\n",
        "int main ()\n",
        "{\n",
        "  array<int,6> myarray = {10, 20, 30, 40, 50, 60} ;\n",
        "  cout << \"myarray backwards:\";\n",
        "  for ( auto rit=myarray.crbegin() ; rit < myarray.crend(); ++rit )\n",
        "    cout << ' ' << *rit;   // cannot modify *rit\n",
        "  cout << '\\n';\n",
        "  return 0;\n",
        "}"
      ],
      "metadata": {
        "colab": {
          "base_uri": "https://localhost:8080/"
        },
        "id": "c6pHn8Gi-2lf",
        "outputId": "59f28874-679a-48a3-9040-2ff80329bd8a"
      },
      "execution_count": null,
      "outputs": [
        {
          "output_type": "stream",
          "name": "stdout",
          "text": [
            "Overwriting arrays14.cpp\n"
          ]
        }
      ]
    },
    {
      "cell_type": "code",
      "source": [
        "%%shell\n",
        "g++ arrays14.cpp\n",
        "./a.out"
      ],
      "metadata": {
        "colab": {
          "base_uri": "https://localhost:8080/"
        },
        "id": "pXJG1FdPFKDP",
        "outputId": "6a274db6-8fe8-42a8-9d15-7e63df5fcd00"
      },
      "execution_count": null,
      "outputs": [
        {
          "output_type": "stream",
          "name": "stdout",
          "text": [
            "myarray backwards: 60 50 40 30 20 10\n"
          ]
        },
        {
          "output_type": "execute_result",
          "data": {
            "text/plain": [
              ""
            ]
          },
          "metadata": {},
          "execution_count": 39
        }
      ]
    },
    {
      "cell_type": "markdown",
      "source": [
        "**Fill function**\n",
        "\n",
        "Fill all elements of an array with a value val"
      ],
      "metadata": {
        "id": "4kmIbn-wMGPH"
      }
    },
    {
      "cell_type": "code",
      "source": [
        "%%writefile arrays15.cpp\n",
        "// array::fill example\n",
        "#include <iostream>\n",
        "#include <array>\n",
        "using namespace std;\n",
        "int main () {\n",
        "  array<int,6> myarray;\n",
        "  myarray.fill(5);\n",
        "  cout << \"myarray contains:\";\n",
        "  for ( int& x : myarray)\n",
        "  {\n",
        "      cout << ' ' << x; \n",
        "  }\n",
        "  cout << '\\n';\n",
        "  return 0;\n",
        "}"
      ],
      "metadata": {
        "colab": {
          "base_uri": "https://localhost:8080/"
        },
        "id": "37mrfzlOMk-6",
        "outputId": "51fe92fa-d54e-4b82-9290-535ae29c92e8"
      },
      "execution_count": 40,
      "outputs": [
        {
          "output_type": "stream",
          "name": "stdout",
          "text": [
            "Writing arrays15.cpp\n"
          ]
        }
      ]
    },
    {
      "cell_type": "code",
      "source": [
        "%%shell\n",
        "g++ arrays15.cpp\n",
        "./a.out"
      ],
      "metadata": {
        "id": "3006x84KFLHl",
        "colab": {
          "base_uri": "https://localhost:8080/"
        },
        "outputId": "014e745c-647e-4fa9-a487-964dbf8a88e6"
      },
      "execution_count": 41,
      "outputs": [
        {
          "output_type": "stream",
          "name": "stdout",
          "text": [
            "myarray contains: 5 5 5 5 5 5\n"
          ]
        },
        {
          "output_type": "execute_result",
          "data": {
            "text/plain": [
              ""
            ]
          },
          "metadata": {},
          "execution_count": 41
        }
      ]
    },
    {
      "cell_type": "markdown",
      "source": [
        "**Swap function**\n",
        "\n",
        " Exchanges the content of the array by the content of x, which is another array object of the same type (including the same size).\n",
        "\n",
        "After the call to this member function, the elements in this container are those which were in x before the call, and the elements of x are those which were in this.\n",
        "\n",
        "Unlike with the swap member functions of the other containers, this member function operates in linear time by performing as many individual swap operations between the individual elements as their size.\n"
      ],
      "metadata": {
        "id": "w-MDVDMMNe47"
      }
    },
    {
      "cell_type": "code",
      "source": [
        "%%writefile arrays16.cpp\n",
        "// swap arrays\n",
        "#include <iostream>\n",
        "#include <array>\n",
        "using namespace std;\n",
        "int main ()\n",
        "{\n",
        "  array<int,5> first = {10, 20, 30, 40, 50};\n",
        "  array<int,5> second = {11, 22, 33, 44, 55};\n",
        "\n",
        "  first.swap (second);\n",
        "\n",
        "  cout << \"first:\";\n",
        "  for (int& x : first) cout << ' ' << x;\n",
        "  cout << '\\n';\n",
        "\n",
        "  cout << \"second:\";\n",
        "  for (int& x : second) cout << ' ' << x;\n",
        "  cout << '\\n';\n",
        "\n",
        "  return 0;\n",
        "}"
      ],
      "metadata": {
        "colab": {
          "base_uri": "https://localhost:8080/"
        },
        "id": "MHrR3y2bN0eg",
        "outputId": "9f9652fb-80cf-4006-8458-b813fe18de2b"
      },
      "execution_count": 42,
      "outputs": [
        {
          "output_type": "stream",
          "name": "stdout",
          "text": [
            "Writing arrays16.cpp\n"
          ]
        }
      ]
    },
    {
      "cell_type": "code",
      "source": [
        "%%shell\n",
        "g++ arrays16.cpp\n",
        "./a.out"
      ],
      "metadata": {
        "id": "VrpYbeqqFLgd",
        "colab": {
          "base_uri": "https://localhost:8080/"
        },
        "outputId": "5de6e0e5-3d09-41a1-cf94-8407b12062b9"
      },
      "execution_count": 43,
      "outputs": [
        {
          "output_type": "stream",
          "name": "stdout",
          "text": [
            "first: 11 22 33 44 55\n",
            "second: 10 20 30 40 50\n"
          ]
        },
        {
          "output_type": "execute_result",
          "data": {
            "text/plain": [
              ""
            ]
          },
          "metadata": {},
          "execution_count": 43
        }
      ]
    },
    {
      "cell_type": "markdown",
      "source": [
        "**Non-member Overloads**\n",
        "\n",
        "This overload of tuple's homonym function get is provided so that array objects can be treated as tuples. \n",
        "\n",
        "**Tuple Size**\n",
        "* Accesses the size of an array object as if it was a tuple.\n",
        "\n",
        "\n",
        "**Tuple Element**\n",
        "* Accesses the static type of the elements in an array object as if it was a tuple.\n"
      ],
      "metadata": {
        "id": "TWkCbRetV-ZV"
      }
    },
    {
      "cell_type": "markdown",
      "source": [
        "**get funtion**\n",
        "\n",
        "* Returns a reference to the Ith element of array arr.\n",
        "* Parameter is an array container."
      ],
      "metadata": {
        "id": "9XnNgu0XSckt"
      }
    },
    {
      "cell_type": "code",
      "source": [
        "%%writefile arrays17.cpp\n",
        "// arrays as tuples\n",
        "#include <iostream>\n",
        "#include <array>\n",
        "#include <tuple>\n",
        "using namespace std;\n",
        "int main ()\n",
        "{\n",
        "  array<int,3> myarray = {10, 20, 30};\n",
        "  tuple<int,int,int> mytuple (10, 20, 30);\n",
        "  //decltype deduce the datatype\n",
        "  // The C++ function tuple_element(array) provides \n",
        "  // compile-type indexed access to the type of the elements of the array using a tuple-like interface.\n",
        "  // tuple_element<0,decltype(myarray)>::type myelement;\n",
        "  int myelement;\n",
        "\n",
        "  myelement = get<2>(myarray);\n",
        "  get<2>(myarray) = get<0>(myarray);\n",
        "  get<0>(myarray) = myelement;\n",
        "\n",
        "  cout << \"first element in myarray: \" << get<0>(myarray) << \"\\n\";\n",
        "  cout << \"first element in mytuple: \" << get<0>(mytuple) << \"\\n\";\n",
        "\n",
        "  return 0;\n",
        "}"
      ],
      "metadata": {
        "colab": {
          "base_uri": "https://localhost:8080/"
        },
        "id": "rIbB4cgrPXiF",
        "outputId": "1b8e2e8d-a2a8-41da-d025-d02d7089aa83"
      },
      "execution_count": 46,
      "outputs": [
        {
          "output_type": "stream",
          "name": "stdout",
          "text": [
            "Overwriting arrays17.cpp\n"
          ]
        }
      ]
    },
    {
      "cell_type": "code",
      "source": [
        "%%shell\n",
        "g++ arrays17.cpp\n",
        "./a.out"
      ],
      "metadata": {
        "id": "rHhcgp03FL8Z",
        "colab": {
          "base_uri": "https://localhost:8080/"
        },
        "outputId": "0ae82ac2-00b5-4bf2-cc7b-1ce245cd15e4"
      },
      "execution_count": 47,
      "outputs": [
        {
          "output_type": "stream",
          "name": "stdout",
          "text": [
            "first element in myarray: 30\n",
            "first element in mytuple: 10\n"
          ]
        },
        {
          "output_type": "execute_result",
          "data": {
            "text/plain": [
              ""
            ]
          },
          "metadata": {},
          "execution_count": 47
        }
      ]
    },
    {
      "cell_type": "markdown",
      "source": [
        "**Relational operators for array**\n",
        "\n",
        "* The equality comparison (operator==) is performed by comparing the elements sequentially using operator==, stopping at the first mismatch\n",
        "\n",
        "* The less-than comparison (operator<) behaves as if using algorithm lexicographical_compare"
      ],
      "metadata": {
        "id": "VYxDHSx5U9fQ"
      }
    },
    {
      "cell_type": "code",
      "source": [
        "%%writefile arrays18.cpp\n",
        "// array comparisons\n",
        "#include <iostream>\n",
        "#include <array>\n",
        "\n",
        "int main ()\n",
        "{\n",
        "  std::array<int,5> a = {10, 20, 30, 40, 50};\n",
        "  std::array<int,5> b = {10, 20, 30, 40, 50};\n",
        "  std::array<int,5> c = {50, 40, 30, 20, 10};\n",
        "  //std::array<int,5> d = {10, 20, 30, 40, 50};\n",
        "  std::array<int,5> d = {10, 20, 30, 40, 60};\n",
        "\n",
        "  if (a==b) std::cout << \"a and b are equal\\n\";\n",
        "  if (b!=c) std::cout << \"b and c are not equal\\n\";\n",
        "  if (b<c) std::cout << \"b is less than c\\n\";\n",
        "  if (b<d) std::cout << \"b is less than d\\n\";\n",
        "  if (c>b) std::cout << \"c is greater than b\\n\";\n",
        "  if (a<=b) std::cout << \"a is less than or equal to b\\n\";\n",
        "  if (a>=b) std::cout << \"a is greater than or equal to b\\n\";\n",
        "\n",
        "  return 0;\n",
        "}"
      ],
      "metadata": {
        "colab": {
          "base_uri": "https://localhost:8080/"
        },
        "id": "uP833jrCTad2",
        "outputId": "8dd3da41-667a-4d32-90ca-587d244376d4"
      },
      "execution_count": 54,
      "outputs": [
        {
          "output_type": "stream",
          "name": "stdout",
          "text": [
            "Overwriting arrays18.cpp\n"
          ]
        }
      ]
    },
    {
      "cell_type": "code",
      "source": [
        "%%shell\n",
        "g++ arrays18.cpp\n",
        "./a.out"
      ],
      "metadata": {
        "id": "mej7nbKOFMXB",
        "colab": {
          "base_uri": "https://localhost:8080/"
        },
        "outputId": "0c8c1c18-8edc-4a94-9760-48799112c877"
      },
      "execution_count": 53,
      "outputs": [
        {
          "output_type": "stream",
          "name": "stdout",
          "text": [
            "a and b are equal\n",
            "b and c are not equal\n",
            "b is less than c\n",
            "b is less than d\n",
            "c is greater than b\n",
            "a is less than or equal to b\n",
            "a is greater than or equal to b\n"
          ]
        },
        {
          "output_type": "execute_result",
          "data": {
            "text/plain": [
              ""
            ]
          },
          "metadata": {},
          "execution_count": 53
        }
      ]
    }
  ]
}