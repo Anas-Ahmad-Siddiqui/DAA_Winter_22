{
  "nbformat": 4,
  "nbformat_minor": 0,
  "metadata": {
    "colab": {
      "name": "vector_STL",
      "provenance": [],
      "collapsed_sections": []
    },
    "kernelspec": {
      "name": "python3",
      "display_name": "Python 3"
    },
    "language_info": {
      "name": "python"
    }
  },
  "cells": [
    {
      "cell_type": "markdown",
      "source": [
        "https://www.cplusplus.com/reference/vector/vector/vector/\n",
        "**std::vector**\n",
        "\n",
        "* sequence container that encapsulates dynamic size arrays\n",
        "* elements are stored contiguously\n",
        "* elements can be accessed not only through iterators, but also using offsets to regular pointers to elements\n",
        "* Container uses an allocator object to dynamically handle its storage needs"
      ],
      "metadata": {
        "id": "e_VWdZlYRixN"
      }
    },
    {
      "cell_type": "markdown",
      "source": [
        "**Memory allocation**\n",
        "\n",
        "* storage of vector is handled automatically, being expanded and contracted as needed\n",
        "* occupy more space than static arrays, because more memory is allocated to handle future growth\n",
        "* vector reallocate memory only when additional memory is exhausted\n",
        "* total amount of allocated memory can be queried using capacity() function\n",
        "* Extra memory can be returned to the system via a call to shrink_to_fit()\n"
      ],
      "metadata": {
        "id": "AL1X4OD4T2hw"
      }
    },
    {
      "cell_type": "markdown",
      "source": [
        "**Preventing Reallocation**\n",
        "* Reallocations are usually costly operations in terms of performance\n",
        "* reserve() function can be used to eliminate reallocations if the number of elements is known beforehand"
      ],
      "metadata": {
        "id": "EHJdApOLUFKf"
      }
    },
    {
      "cell_type": "markdown",
      "source": [
        "**Complexity of vector operations**\n",
        "* Random access - constant 𝓞(1)\n",
        "* Insertion or removal of elements at the end - amortized constant 𝓞(1)\n",
        "* Insertion or removal of elements - linear in the distance to the end of the vector 𝓞(n) "
      ],
      "metadata": {
        "id": "O07Ve6Y3Xvwm"
      }
    },
    {
      "cell_type": "markdown",
      "source": [
        "## **Constructors**\n",
        "\n",
        "* **empty container constructor (default constructor)** - Constructs an empty container, with no elements\n",
        "\n",
        "\n",
        "```\n",
        "#Eg: vector <int> first;\n",
        "```\n",
        "\n"
      ],
      "metadata": {
        "id": "_IvMeGydauIi"
      }
    },
    {
      "cell_type": "markdown",
      "source": [
        "* **fill constructor** - Constructs a container with n elements. Each element is a copy of val\n",
        "\n",
        "\n",
        "\n",
        "```\n",
        "#Eg: vector<int> second (4,100); \n",
        "```\n",
        "\n"
      ],
      "metadata": {
        "id": "zkBYDJk5cWJL"
      }
    },
    {
      "cell_type": "markdown",
      "source": [
        "* **range constructor** - Constructs a container with as many elements as the range [first,last), with each element emplace-constructed from its corresponding element in that range, in the same order\n",
        "\n",
        "\n",
        "```\n",
        "# Eg: vector<int> third (second.begin(),second.end());\n",
        "```\n",
        "\n"
      ],
      "metadata": {
        "id": "nTFyvOGTaunx"
      }
    },
    {
      "cell_type": "markdown",
      "source": [
        "\n",
        "* **copy constructor (and copying with allocator)** - Constructs a container with a copy of each of the elements in x, in the same order\n",
        "\n",
        "\n",
        "\n",
        "```\n",
        "# Eg: vector<int> fourth (third); \n",
        "```\n",
        "\n"
      ],
      "metadata": {
        "id": "8GF9AlmGeOfG"
      }
    },
    {
      "cell_type": "markdown",
      "source": [
        "* **initializer list constructor**\n",
        "* Constructs a container with a copy of each of the elements in il, in the same order.\n",
        "\n",
        "\n",
        "\n",
        "```\n",
        "# Eg: int myints[] = {16,2,77,29};\n",
        "# vector<int> fifth (myints, myints + sizeof(myints) / sizeof(int) );\n",
        "```\n",
        "\n"
      ],
      "metadata": {
        "id": "dx3ovuZhauqB"
      }
    },
    {
      "cell_type": "code",
      "source": [
        "%%writefile vector1.cpp\n",
        "// constructing vectors\n",
        "#include <iostream>\n",
        "#include <vector>\n",
        "using namespace std;\n",
        "int main ()\n",
        "{\n",
        "  vector<int> first;                                // empty vector of ints\n",
        "  vector<int> second (4,100);                       // four ints with value 100\n",
        "  vector<int> third (second.begin(),second.end());  // iterating through second\n",
        "  vector<int> fourth (third);                       // a copy of third\n",
        "\n",
        "  // the iterator constructor can also be used to construct from arrays:\n",
        "  int myints[] = {16,2,77,29};\n",
        "  vector<int> fifth (myints, myints + sizeof(myints) / sizeof(int) );\n",
        "\n",
        "  cout << \"The contents of fifth are:\";\n",
        "  for (vector<int>::iterator it = fifth.begin(); it != fifth.end(); ++it)\n",
        "    cout << ' ' << *it;\n",
        "  cout << '\\n';\n",
        "\n",
        "  return 0;\n",
        "}"
      ],
      "metadata": {
        "id": "lCiqLYwgatT0",
        "colab": {
          "base_uri": "https://localhost:8080/"
        },
        "outputId": "f4af0d76-c3a9-4468-c4e2-d618bbd51615"
      },
      "execution_count": null,
      "outputs": [
        {
          "output_type": "stream",
          "name": "stdout",
          "text": [
            "Writing vector1.cpp\n"
          ]
        }
      ]
    },
    {
      "cell_type": "code",
      "source": [
        "%%shell\n",
        "g++ vector1.cpp\n",
        "./a.out"
      ],
      "metadata": {
        "id": "0WpZC7_0Xr5f",
        "colab": {
          "base_uri": "https://localhost:8080/"
        },
        "outputId": "2ce05e5d-6f60-441a-e141-d946cee12e2c"
      },
      "execution_count": null,
      "outputs": [
        {
          "output_type": "stream",
          "name": "stdout",
          "text": [
            "The contents of fifth are: 16 2 77 29\n"
          ]
        },
        {
          "output_type": "execute_result",
          "data": {
            "text/plain": [
              ""
            ]
          },
          "metadata": {},
          "execution_count": 5
        }
      ]
    },
    {
      "cell_type": "markdown",
      "source": [
        "## **assign**\n",
        "\n",
        "Assigns new contents to the vector, replacing its current contents, and modifying its size accordingly.\n",
        "\n",
        "Three ways to use assign:\n",
        "\n",
        "(i) Specify number of elements to assigned in the container and the value to be assigned\n",
        "\n",
        "(ii) Assign from existing container\n",
        "\n",
        "(iii) Assign from an intializer like array"
      ],
      "metadata": {
        "id": "f6GVBSOkSEax"
      }
    },
    {
      "cell_type": "code",
      "source": [
        "%%writefile assign_vector.cpp\n",
        "// vector assign\n",
        "#include <iostream>\n",
        "#include <vector>\n",
        "using namespace std;\n",
        "int main ()\n",
        "{\n",
        "  vector<int> first;\n",
        "  vector<int> second;\n",
        "  vector<int> third;\n",
        "\n",
        "  first.assign (7,100);             // 7 ints with a value of 100\n",
        "\n",
        "  vector<int>::iterator it;\n",
        "  it=first.begin()+1;\n",
        "\n",
        "  second.assign (it,first.end()-1); // the 5 central values of first\n",
        "\n",
        "  int myints[] = {1776,7,4};\n",
        "  third.assign (myints,myints+3);   // assigning from array.\n",
        "\n",
        "  cout << \"Size of first: \" << int (first.size()) << '\\n';\n",
        "  cout << \"Size of second: \" << int (second.size()) << '\\n';\n",
        "  cout << \"Size of third: \" << int (third.size()) << '\\n';\n",
        "  return 0;\n",
        "}"
      ],
      "metadata": {
        "id": "Fs5LTN1OUEL4",
        "colab": {
          "base_uri": "https://localhost:8080/"
        },
        "outputId": "70c34fd9-141b-442d-d0a2-24d40550c4d8"
      },
      "execution_count": null,
      "outputs": [
        {
          "output_type": "stream",
          "name": "stdout",
          "text": [
            "Overwriting assign_vector.cpp\n"
          ]
        }
      ]
    },
    {
      "cell_type": "code",
      "execution_count": null,
      "metadata": {
        "id": "ZxZF9lQ3RZi1",
        "colab": {
          "base_uri": "https://localhost:8080/"
        },
        "outputId": "2dab7735-4189-49e8-bc74-ababe6f883f6"
      },
      "outputs": [
        {
          "output_type": "stream",
          "name": "stdout",
          "text": [
            "Size of first: 7\n",
            "Size of second: 5\n",
            "Size of third: 3\n"
          ]
        },
        {
          "output_type": "execute_result",
          "data": {
            "text/plain": [
              ""
            ]
          },
          "metadata": {},
          "execution_count": 3
        }
      ],
      "source": [
        "%%shell\n",
        "g++ assign_vector.cpp\n",
        "./a.out"
      ]
    },
    {
      "cell_type": "markdown",
      "source": [
        "## **Functions related to size**\n",
        "* size - Returns the number of elements in the vector.\n",
        "* capacity - Returns the size of the storage space currently allocated for the vector, expressed in terms of elements.\n",
        "* max_size - Returns the maximum number of elements that the vector can hold.\n",
        "\n"
      ],
      "metadata": {
        "id": "rWtrE08qZBwu"
      }
    },
    {
      "cell_type": "markdown",
      "source": [
        "**Size vs Capacity**\n",
        "\n",
        "* Capacity is not necessarily equal to the vector size. \n",
        "\n",
        "* It can be equal or greater, with the extra space allowing to accommodate for growth without the need to reallocate on each insertion."
      ],
      "metadata": {
        "id": "8Q3J80wHbr9z"
      }
    },
    {
      "cell_type": "markdown",
      "source": [
        "**Max Size**\n",
        "* maximum potential size the container can reach due to known system or library implementation limitations\n",
        "* but the container is by no means guaranteed to be able to reach that size: \n",
        "* it can still fail to allocate storage at any point before that size is reached."
      ],
      "metadata": {
        "id": "aUtYJgAuc6Es"
      }
    },
    {
      "cell_type": "code",
      "source": [
        "%%writefile size_vector.cpp\n",
        "// vector element access\n",
        "#include <iostream>\n",
        "#include <vector>\n",
        "using namespace std;\n",
        "int main ()\n",
        "{\n",
        "  vector<int> first(13,5);\n",
        "  int i;\n",
        "  cout<<first.size()<<endl;\n",
        "  cout<<first.capacity()<<endl;\n",
        "  cout<<first.max_size()<<endl;\n",
        "}"
      ],
      "metadata": {
        "colab": {
          "base_uri": "https://localhost:8080/"
        },
        "id": "kBtjamOBa6l5",
        "outputId": "622e728a-7afe-4642-80ba-e63385ff44f2"
      },
      "execution_count": null,
      "outputs": [
        {
          "output_type": "stream",
          "name": "stdout",
          "text": [
            "Overwriting size_vector.cpp\n"
          ]
        }
      ]
    },
    {
      "cell_type": "code",
      "source": [
        "%%shell\n",
        "g++ size_vector.cpp\n",
        "./a.out"
      ],
      "metadata": {
        "colab": {
          "base_uri": "https://localhost:8080/"
        },
        "id": "T9wMvQVGbJ4u",
        "outputId": "3524b371-9a65-4041-a2bb-5f2b4ae45f9e"
      },
      "execution_count": null,
      "outputs": [
        {
          "output_type": "stream",
          "name": "stdout",
          "text": [
            "13\n",
            "13\n",
            "4611686018427387903\n"
          ]
        },
        {
          "output_type": "execute_result",
          "data": {
            "text/plain": [
              ""
            ]
          },
          "metadata": {},
          "execution_count": 29
        }
      ]
    },
    {
      "cell_type": "markdown",
      "source": [
        "## **Accessing an element in a vector**\n",
        "\n",
        "* using subscript operator\n",
        "* using 'at' function\n",
        "* front - Returns a reference to the first element in the vector.\n",
        "* back - Returns a reference to the last element in the vector\n",
        "* data - Returns a direct pointer to the memory array used internally by the vector to store its owned elements."
      ],
      "metadata": {
        "id": "AIUUtmd4V_8G"
      }
    },
    {
      "cell_type": "code",
      "source": [
        "%%writefile access_vector.cpp\n",
        "// vector element access\n",
        "#include <iostream>\n",
        "#include <vector>\n",
        "using namespace std;\n",
        "int main ()\n",
        "{\n",
        "  vector<int> first(5,10);\n",
        "  int i;\n",
        "  for (i=0;i<first.size();i++)\n",
        "    cout<<first[i]<<endl;\n",
        "  cout<<first.capacity()<<endl;\n",
        "  cout<<first[10];\n",
        "}"
      ],
      "metadata": {
        "colab": {
          "base_uri": "https://localhost:8080/"
        },
        "id": "o23YpxxoTUTH",
        "outputId": "1ecdcf3a-a072-4a3a-a463-f076f30bfe6c"
      },
      "execution_count": null,
      "outputs": [
        {
          "output_type": "stream",
          "name": "stdout",
          "text": [
            "Overwriting access_vector.cpp\n"
          ]
        }
      ]
    },
    {
      "cell_type": "code",
      "source": [
        "%%shell\n",
        "g++ access_vector.cpp\n",
        "./a.out"
      ],
      "metadata": {
        "colab": {
          "base_uri": "https://localhost:8080/"
        },
        "id": "vNh1m92OXu0Q",
        "outputId": "d508c55d-e8ba-4503-8cba-56a8910d5a02"
      },
      "execution_count": null,
      "outputs": [
        {
          "output_type": "stream",
          "name": "stdout",
          "text": [
            "10\n",
            "10\n",
            "10\n",
            "10\n",
            "10\n",
            "5\n",
            "0"
          ]
        },
        {
          "output_type": "execute_result",
          "data": {
            "text/plain": [
              ""
            ]
          },
          "metadata": {},
          "execution_count": 17
        }
      ]
    },
    {
      "cell_type": "code",
      "source": [
        "%%writefile at_vector.cpp\n",
        "// vector element access\n",
        "#include <iostream>\n",
        "#include <vector>\n",
        "using namespace std;\n",
        "int main ()\n",
        "{\n",
        "  vector<int> first(5,10);\n",
        "  int i;  \n",
        "  for (i=0;i<first.size();i++)\n",
        "    cout<<first.at(i)<<endl;\n",
        "  cout<<first.capacity()<<endl;\n",
        "  cout<<first.at(i);\n",
        "  \n",
        "}"
      ],
      "metadata": {
        "id": "YAYCJx5AlsoF"
      },
      "execution_count": null,
      "outputs": []
    },
    {
      "cell_type": "code",
      "source": [
        "%%shell\n",
        "g++ at_vector.cpp\n",
        "./a.out"
      ],
      "metadata": {
        "id": "SfdmoUjll1mo"
      },
      "execution_count": null,
      "outputs": []
    },
    {
      "cell_type": "code",
      "source": [
        "%%writefile at_vector_excep.cpp\n",
        "// vector element access\n",
        "#include <iostream>\n",
        "#include <vector>\n",
        "using namespace std;\n",
        "int main ()\n",
        "{\n",
        "  vector<int> first(5,10);\n",
        "  int i;\n",
        "  try\n",
        "  {\n",
        "    for (i=0;i<first.size();i++)\n",
        "      cout<<first.at(i)<<endl;\n",
        "    cout<<first.capacity()<<endl;\n",
        "    cout<<first.at(i);\n",
        "  }catch(out_of_range o)\n",
        "  {\n",
        "      cout<<\"You are accessing out of range\";\n",
        "  }\n",
        "}"
      ],
      "metadata": {
        "id": "OM03kLw4XzQI",
        "colab": {
          "base_uri": "https://localhost:8080/"
        },
        "outputId": "67e44d28-7a22-4665-f4aa-37d8f4ee2f74"
      },
      "execution_count": null,
      "outputs": [
        {
          "output_type": "stream",
          "name": "stdout",
          "text": [
            "Writing at_vector_excep.cpp\n"
          ]
        }
      ]
    },
    {
      "cell_type": "code",
      "source": [
        "%%shell\n",
        "g++ at_vector_excep.cpp\n",
        "./a.out"
      ],
      "metadata": {
        "colab": {
          "base_uri": "https://localhost:8080/"
        },
        "id": "GRVJYgMOlBLN",
        "outputId": "6bd0e2ec-cec4-4e43-ba82-cadcd00b2fce"
      },
      "execution_count": null,
      "outputs": [
        {
          "output_type": "stream",
          "name": "stdout",
          "text": [
            "10\n",
            "10\n",
            "10\n",
            "10\n",
            "10\n",
            "5\n",
            "You are accessing out of range"
          ]
        },
        {
          "output_type": "execute_result",
          "data": {
            "text/plain": [
              ""
            ]
          },
          "metadata": {},
          "execution_count": 7
        }
      ]
    },
    {
      "cell_type": "code",
      "source": [
        "%%writefile vector_front.cpp\n",
        "// vector::front\n",
        "#include <iostream>\n",
        "#include <vector>\n",
        "\n",
        "int main ()\n",
        "{\n",
        "  std::vector<int> myvector;\n",
        "\n",
        "  myvector.push_back(78);\n",
        "  myvector.push_back(16);\n",
        "\n",
        "  // now front equals 78, and back 16\n",
        "\n",
        "  myvector.front() -= myvector.back();\n",
        "\n",
        "  std::cout << \"myvector.front() is now \" << myvector.front() << '\\n';\n",
        "\n",
        "  return 0;\n",
        "}"
      ],
      "metadata": {
        "colab": {
          "base_uri": "https://localhost:8080/"
        },
        "id": "EDEgnerjLGdP",
        "outputId": "8f768b06-3955-4356-a0bb-b74a1f1358e3"
      },
      "execution_count": 4,
      "outputs": [
        {
          "output_type": "stream",
          "name": "stdout",
          "text": [
            "Writing vector_front.cpp\n"
          ]
        }
      ]
    },
    {
      "cell_type": "code",
      "source": [
        "%%shell\n",
        "g++ vector_front.cpp\n",
        "./a.out"
      ],
      "metadata": {
        "colab": {
          "base_uri": "https://localhost:8080/"
        },
        "id": "LMnFlkloLP2r",
        "outputId": "ff99c280-45bc-46f6-9fec-b410fd62f779"
      },
      "execution_count": 5,
      "outputs": [
        {
          "output_type": "stream",
          "name": "stdout",
          "text": [
            "myvector.front() is now 62\n"
          ]
        },
        {
          "output_type": "execute_result",
          "data": {
            "text/plain": [
              ""
            ]
          },
          "metadata": {},
          "execution_count": 5
        }
      ]
    },
    {
      "cell_type": "code",
      "source": [
        "%%writefile back_vector.cpp\n",
        "// vector element access\n",
        "#include <iostream>\n",
        "#include <vector>\n",
        "using namespace std;\n",
        "int main ()\n",
        "{\n",
        "  int ele[] = {1,2,3,4,5,6};\n",
        "  vector<int> first (ele,ele+sizeof(ele)/sizeof(int));\n",
        "  cout<<first.back();\n",
        "}"
      ],
      "metadata": {
        "colab": {
          "base_uri": "https://localhost:8080/"
        },
        "id": "CgIEpG2TlOay",
        "outputId": "96c92811-5b67-4bda-8e4c-d43fc5643886"
      },
      "execution_count": null,
      "outputs": [
        {
          "output_type": "stream",
          "name": "stdout",
          "text": [
            "Overwriting back_vector.cpp\n"
          ]
        }
      ]
    },
    {
      "cell_type": "code",
      "source": [
        "%%shell\n",
        "g++ back_vector.cpp\n",
        "./a.out"
      ],
      "metadata": {
        "colab": {
          "base_uri": "https://localhost:8080/"
        },
        "id": "7DH6eO03mv1P",
        "outputId": "6de1597b-6aa7-4c0c-d605-6569dd0e9117"
      },
      "execution_count": null,
      "outputs": [
        {
          "output_type": "stream",
          "name": "stdout",
          "text": [
            "6"
          ]
        },
        {
          "output_type": "execute_result",
          "data": {
            "text/plain": [
              ""
            ]
          },
          "metadata": {},
          "execution_count": 14
        }
      ]
    },
    {
      "cell_type": "code",
      "source": [
        "%%writefile vector_data.cpp\n",
        "#include <iostream>\n",
        "#include <vector>\n",
        "using namespace std;\n",
        "int main ()\n",
        "{\n",
        "  vector<int> myvector (5);\n",
        "\n",
        "  int* p = myvector.data();\n",
        "\n",
        "  *p = 10;\n",
        "  ++p;\n",
        "  *p = 20;\n",
        "  p[2] = 100;\n",
        "\n",
        "  cout << \"myvector contains:\";\n",
        "  for (unsigned i=0; i<myvector.size(); ++i)\n",
        "    cout << ' ' << myvector[i];\n",
        "  cout << '\\n';\n",
        "\n",
        "  return 0;\n",
        "}"
      ],
      "metadata": {
        "colab": {
          "base_uri": "https://localhost:8080/"
        },
        "id": "mh3LKNnpm3VN",
        "outputId": "8d65a251-5fe7-499c-916b-cce2632fc718"
      },
      "execution_count": null,
      "outputs": [
        {
          "output_type": "stream",
          "name": "stdout",
          "text": [
            "Writing vector_data.cpp\n"
          ]
        }
      ]
    },
    {
      "cell_type": "code",
      "source": [
        "%%shell\n",
        "g++ vector_data.cpp\n",
        "./a.out"
      ],
      "metadata": {
        "colab": {
          "base_uri": "https://localhost:8080/"
        },
        "id": "mLBq7MJBsXS2",
        "outputId": "b99479db-18e8-4ca7-8da5-9ec0907de7c9"
      },
      "execution_count": null,
      "outputs": [
        {
          "output_type": "stream",
          "name": "stdout",
          "text": [
            "myvector contains: 10 20 0 100 0\n"
          ]
        },
        {
          "output_type": "execute_result",
          "data": {
            "text/plain": [
              ""
            ]
          },
          "metadata": {},
          "execution_count": 16
        }
      ]
    },
    {
      "cell_type": "markdown",
      "source": [
        "## **Inserting Elements in Vector**\n",
        "* Insert - vector is extended by inserting new elements (one or more) before the element at the specified position, effectively increasing the container size by the number of elements inserted\n",
        "  * returns the pointer to the first element element"
      ],
      "metadata": {
        "id": "v05-Z97cvPQo"
      }
    },
    {
      "cell_type": "code",
      "source": [
        "%%writefile insert_vector.cpp\n",
        "#include <iostream>\n",
        "#include <vector>\n",
        "using namespace std;\n",
        "int main ()\n",
        "{\n",
        "  int i;   \n",
        "  //create a vector of size 3 initialized with 100\n",
        "  vector<int> myvector (3,100);\n",
        "  vector<int>::iterator it;\n",
        "\n",
        "  it = myvector.begin();\n",
        "  // Insert 200 in the position of it, now in the beginning\n",
        "  it = myvector.insert ( it , 200 );\n",
        "  // Insert two 300 in the position of it+1, that is after current first element\n",
        "  auto ret = myvector.insert (it+1,2,300);\n",
        "  cout<<\"Pointer is \"<<*ret<<endl;\n",
        "  for(i=0;i<myvector.size();i++)\n",
        "    cout<<myvector[i]<<endl;\n",
        "}"
      ],
      "metadata": {
        "colab": {
          "base_uri": "https://localhost:8080/"
        },
        "id": "8YZ15bC_xgZr",
        "outputId": "efc2ab81-5750-4d0b-8498-fd4498611655"
      },
      "execution_count": null,
      "outputs": [
        {
          "output_type": "stream",
          "name": "stdout",
          "text": [
            "Overwriting insert_vector.cpp\n"
          ]
        }
      ]
    },
    {
      "cell_type": "code",
      "source": [
        "%%shell\n",
        "g++ insert_vector.cpp\n",
        "./a.out"
      ],
      "metadata": {
        "colab": {
          "base_uri": "https://localhost:8080/"
        },
        "id": "q2O44es6yBTT",
        "outputId": "ebabfddf-03d3-4373-a31c-53e2e423cdfe"
      },
      "execution_count": null,
      "outputs": [
        {
          "output_type": "stream",
          "name": "stdout",
          "text": [
            "Pointer is 300\n",
            "200\n",
            "300\n",
            "300\n",
            "100\n",
            "100\n",
            "100\n"
          ]
        },
        {
          "output_type": "execute_result",
          "data": {
            "text/plain": [
              ""
            ]
          },
          "metadata": {},
          "execution_count": 32
        }
      ]
    },
    {
      "cell_type": "code",
      "source": [
        "%%writefile insert_mul_vector.cpp\n",
        "// Inserting multiple elements \n",
        "#include <iostream>\n",
        "#include <vector>\n",
        "using namespace std;\n",
        "int main ()\n",
        "{\n",
        "  vector<int> myvector (3,100);\n",
        "  vector<int>::iterator it;\n",
        "\n",
        "  it = myvector.begin();\n",
        "\n",
        "  vector<int> anothervector (2,400);\n",
        "  myvector.insert (it+2,anothervector.begin(),anothervector.end());\n",
        "\n",
        "  int myarray [] = { 501,502,503 };\n",
        "  myvector.insert (myvector.begin(), myarray, myarray+3);\n",
        "\n",
        "  cout << \"myvector contains:\";\n",
        "  for (it=myvector.begin(); it<myvector.end(); it++)\n",
        "    cout << ' ' << *it;\n",
        "  cout << '\\n';\n",
        "\n",
        "  return 0;\n",
        "}"
      ],
      "metadata": {
        "colab": {
          "base_uri": "https://localhost:8080/"
        },
        "id": "tQ1Lqfiwsq53",
        "outputId": "104c3cca-319f-4930-c483-f212599c3a9f"
      },
      "execution_count": null,
      "outputs": [
        {
          "output_type": "stream",
          "name": "stdout",
          "text": [
            "Writing insert_mul_vector.cpp\n"
          ]
        }
      ]
    },
    {
      "cell_type": "code",
      "source": [
        "%%shell\n",
        "g++ insert_mul_vector.cpp\n",
        "./a.out"
      ],
      "metadata": {
        "colab": {
          "base_uri": "https://localhost:8080/"
        },
        "id": "FG89u786xCCW",
        "outputId": "47dd5844-30f6-416f-cdee-f33d866a922e"
      },
      "execution_count": null,
      "outputs": [
        {
          "output_type": "stream",
          "name": "stdout",
          "text": [
            "myvector contains: 501 502 503 100 100 400 400 100\n"
          ]
        },
        {
          "output_type": "execute_result",
          "data": {
            "text/plain": [
              ""
            ]
          },
          "metadata": {},
          "execution_count": 35
        }
      ]
    },
    {
      "cell_type": "markdown",
      "source": [
        "**emplace** - container is extended by inserting a new element at position. This new element is constructed in place using args as the arguments for its construction"
      ],
      "metadata": {
        "id": "ErQAdvVFQ4JS"
      }
    },
    {
      "cell_type": "code",
      "source": [
        "%%writefile emplace_vector.cpp\n",
        "// vector::emplace\n",
        "#include <iostream>\n",
        "#include <vector>\n",
        "using namespace std;\n",
        "int main ()\n",
        "{\n",
        "  vector<int> myvector = {10,20,30};\n",
        "  auto it = myvector.emplace ( myvector.begin()+1, 100 );\n",
        "  myvector.emplace ( it, 200 );\n",
        "  myvector.emplace ( myvector.end(), 300 );\n",
        "  cout << \"myvector contains:\";\n",
        "  for (auto& x: myvector)\n",
        "    cout << ' ' << x;\n",
        "  cout << '\\n';\n",
        "  return 0;\n",
        "}"
      ],
      "metadata": {
        "colab": {
          "base_uri": "https://localhost:8080/"
        },
        "id": "k2o_Hjs3NPaN",
        "outputId": "3003ccb4-9d04-4d6e-c57b-e8ee35b60f1b"
      },
      "execution_count": null,
      "outputs": [
        {
          "output_type": "stream",
          "name": "stdout",
          "text": [
            "Writing emplace_vector.cpp\n"
          ]
        }
      ]
    },
    {
      "cell_type": "code",
      "source": [
        "%%shell\n",
        "g++ emplace_vector.cpp\n",
        "./a.out"
      ],
      "metadata": {
        "colab": {
          "base_uri": "https://localhost:8080/"
        },
        "id": "aM4OTljKNzMK",
        "outputId": "7277c87d-4c24-4094-9dfa-c445af65c9e9"
      },
      "execution_count": null,
      "outputs": [
        {
          "output_type": "stream",
          "name": "stdout",
          "text": [
            "myvector contains: 10 200 100 20 30 300\n"
          ]
        },
        {
          "output_type": "execute_result",
          "data": {
            "text/plain": [
              ""
            ]
          },
          "metadata": {},
          "execution_count": 37
        }
      ]
    },
    {
      "cell_type": "markdown",
      "source": [
        "\n",
        "**emplace_back** - Inserts a new element at the end of the vector, right after its current last element. \n",
        "  * This new element is constructed in place using args as the arguments for its constructor.\n",
        "    * returns none\n"
      ],
      "metadata": {
        "id": "gfnBlM8nRBgc"
      }
    },
    {
      "cell_type": "code",
      "source": [
        "// vector::emplace_back\n",
        "#include <iostream>\n",
        "#include <vector>\n",
        "\n",
        "int main ()\n",
        "{\n",
        "  std::vector<int> myvector = {10,20,30};\n",
        "\n",
        "  myvector.emplace_back (100);\n",
        "  myvector.emplace_back (200);\n",
        "\n",
        "  std::cout << \"myvector contains:\";\n",
        "  for (auto& x: myvector)\n",
        "    std::cout << ' ' << x;\n",
        "  std::cout << '\\n';\n",
        "\n",
        "  return 0;\n",
        "}"
      ],
      "metadata": {
        "id": "Oy8T22681Zl2"
      },
      "execution_count": null,
      "outputs": []
    },
    {
      "cell_type": "markdown",
      "source": [
        "**push_back**\n",
        "* Adds a new element at the end of the vector, after its current last element\n",
        "* content of val is copied (or moved) to the new element.\n",
        "* returns none"
      ],
      "metadata": {
        "id": "O4_5bV6EdsnS"
      }
    },
    {
      "cell_type": "code",
      "source": [
        "%%writefile push_back_vector.cpp\n",
        "// vector::push_back\n",
        "#include <iostream>\n",
        "#include <vector>\n",
        "using namespace std;\n",
        "int main ()\n",
        "{\n",
        "  vector<int> myvector;\n",
        "  int myint;\n",
        "  cout << \"Please enter some integers (enter 0 to end):\\n\";\n",
        "  do {\n",
        "    cin >> myint;\n",
        "    myvector.push_back (myint);\n",
        "  } while (myint);\n",
        "\n",
        "  cout << \"myvector stores \" << int(myvector.size()) << \" numbers.\\n\";\n",
        "\n",
        "  return 0;\n",
        "}"
      ],
      "metadata": {
        "colab": {
          "base_uri": "https://localhost:8080/"
        },
        "id": "NSgjfypId7QW",
        "outputId": "d7bafd87-515f-405e-9d7b-fe650f0d6f2b"
      },
      "execution_count": null,
      "outputs": [
        {
          "output_type": "stream",
          "name": "stdout",
          "text": [
            "Writing push_back_vector.cpp\n"
          ]
        }
      ]
    },
    {
      "cell_type": "code",
      "source": [
        "%%shell\n",
        "g++ push_back_vector.cpp\n",
        "./a.out"
      ],
      "metadata": {
        "colab": {
          "base_uri": "https://localhost:8080/"
        },
        "id": "Txi1qmeaeKfv",
        "outputId": "6a34f23d-1f77-43d0-cb6c-bdec0ec67b40"
      },
      "execution_count": null,
      "outputs": [
        {
          "output_type": "stream",
          "name": "stdout",
          "text": [
            "Please enter some integers (enter 0 to end):\n",
            "2\n",
            "5\n",
            "7\n",
            "1\n",
            "13\n",
            "7\n",
            "78\n",
            "0\n",
            "myvector stores 8 numbers.\n"
          ]
        },
        {
          "output_type": "execute_result",
          "data": {
            "text/plain": [
              ""
            ]
          },
          "metadata": {},
          "execution_count": 41
        }
      ]
    },
    {
      "cell_type": "markdown",
      "source": [
        "## **Assignment of Vectors**"
      ],
      "metadata": {
        "id": "7RzXuGzofaLM"
      }
    },
    {
      "cell_type": "markdown",
      "source": [
        "\n",
        "**assign**\n",
        "* Any elements held in the container before the call are destroyed and replaced by newly constructed elements\n",
        "  * Created by three ways\n",
        "    * assigning 'n' values by a constant\n",
        "    * assigning few elements from an existing container\n",
        "    * assigning from existing intializer list object\n",
        "  * returns none"
      ],
      "metadata": {
        "id": "R2g-emzsRh78"
      }
    },
    {
      "cell_type": "code",
      "source": [
        "%%writefile vector_assign.cpp\n",
        "// vector assign\n",
        "#include <iostream>\n",
        "#include <vector>\n",
        "using namespace std;\n",
        "int main ()\n",
        "{\n",
        "  vector<int> first;\n",
        "  vector<int> second;\n",
        "  vector<int> third;\n",
        "\n",
        "  first.assign (7,100);             // 7 ints with a value of 100\n",
        "\n",
        "  vector<int>::iterator it;\n",
        "  it=first.begin()+1;\n",
        "\n",
        "  second.assign (it,first.end()-1); // the 5 central values of first\n",
        "\n",
        "  int myints[] = {1776,7,4};\n",
        "  third.assign (myints,myints+3);   // assigning from array.\n",
        "\n",
        "  cout << \"Size of first: \" << int (first.size()) << '\\n';\n",
        "  cout << \"Size of second: \" << int (second.size()) << '\\n';\n",
        "  cout << \"Size of third: \" << int (third.size()) << '\\n';\n",
        "  return 0;\n",
        "}"
      ],
      "metadata": {
        "id": "m8-OMi-5SFGZ"
      },
      "execution_count": null,
      "outputs": []
    },
    {
      "cell_type": "code",
      "source": [
        "%%shell\n",
        "g++ vector_assign.cpp\n",
        "./a.out"
      ],
      "metadata": {
        "id": "VXTgfCkrSQnL"
      },
      "execution_count": null,
      "outputs": []
    },
    {
      "cell_type": "markdown",
      "source": [
        "**Operator =**\n",
        "\n",
        "Assigns new contents to the container, replacing its current contents, and modifying its size accordingly.\n"
      ],
      "metadata": {
        "id": "4F9nV_vMgbOP"
      }
    },
    {
      "cell_type": "code",
      "source": [
        "%%writefile vector_assign_operator.cpp\n",
        "// vector assignment\n",
        "#include <iostream>\n",
        "#include <vector>\n",
        "using namespace std;\n",
        "int main ()\n",
        "{\n",
        "  vector<int> foo (3,0); // creates a vector of size 3 with elements initialized as 0\n",
        "  vector<int> bar (5,0); // creates a vector of size 5 with elements initialized as 0\n",
        "\n",
        "  bar = foo;  // assign foo to bar\n",
        "  foo = std::vector<int>(); // creates a vector of size 0\n",
        "\n",
        "  cout << \"Size of foo: \" << int(foo.size()) << '\\n';\n",
        "  cout << \"Size of bar: \" << int(bar.size()) << '\\n';\n",
        "  return 0;\n",
        "}"
      ],
      "metadata": {
        "colab": {
          "base_uri": "https://localhost:8080/"
        },
        "id": "Q6TuWFCMeWYw",
        "outputId": "b35d3732-4fe9-41bf-a918-f0f5a5465eb3"
      },
      "execution_count": null,
      "outputs": [
        {
          "output_type": "stream",
          "name": "stdout",
          "text": [
            "Overwriting vector_assign_operator.cpp\n"
          ]
        }
      ]
    },
    {
      "cell_type": "code",
      "source": [
        "%%shell\n",
        "g++ vector_assign_operator.cpp\n",
        "./a.out"
      ],
      "metadata": {
        "colab": {
          "base_uri": "https://localhost:8080/"
        },
        "id": "EgMNPbnGhp-v",
        "outputId": "1876dd72-3760-4ed9-f487-cb8f2b47b281"
      },
      "execution_count": null,
      "outputs": [
        {
          "output_type": "stream",
          "name": "stdout",
          "text": [
            "Size of foo: 0\n",
            "Size of bar: 3\n"
          ]
        },
        {
          "output_type": "execute_result",
          "data": {
            "text/plain": [
              ""
            ]
          },
          "metadata": {},
          "execution_count": 46
        }
      ]
    },
    {
      "cell_type": "markdown",
      "source": [
        "## **Working with size of vectors**"
      ],
      "metadata": {
        "id": "GE8twWG1j91F"
      }
    },
    {
      "cell_type": "markdown",
      "source": [
        "**reserve**\n",
        "\n",
        "* Requests that the vector capacity be at least enough to contain n elements.\n",
        "* If n is greater than the current vector capacity, the function causes the container to reallocate its storage increasing its capacity to n (or greater).\n",
        "* In all other cases, the function call does not cause a reallocation and the vector capacity is not affected.\n",
        "* This function has no effect on the vector size and cannot alter its elements."
      ],
      "metadata": {
        "id": "KPVBuu9tlLnQ"
      }
    },
    {
      "cell_type": "code",
      "source": [
        "%%writefile vector_reserve.cpp\n",
        "// vector::reserve\n",
        "#include <iostream>\n",
        "#include <vector>\n",
        "using namespace std;\n",
        "int main ()\n",
        "{\n",
        "  vector<int>::size_type sz;\n",
        "\n",
        "  vector<int> foo;\n",
        "  sz = foo.capacity();\n",
        "  cout << \"making foo grow:\\n\";\n",
        "  for (int i=0; i<100; ++i) {\n",
        "    foo.push_back(i);\n",
        "    if (sz!=foo.capacity()) {\n",
        "      sz = foo.capacity();\n",
        "      cout << \"capacity changed: \" << sz << '\\n';\n",
        "    }\n",
        "  }\n",
        "\n",
        "  vector<int> bar;\n",
        "  sz = bar.capacity();\n",
        "  bar.reserve(100);   // this is the only difference with foo above\n",
        "  cout << \"making bar grow:\\n\";\n",
        "  for (int i=0; i<100; ++i) {\n",
        "    bar.push_back(i);\n",
        "    if (sz!=bar.capacity()) {\n",
        "      sz = bar.capacity();\n",
        "      std::cout << \"capacity changed: \" << sz << '\\n';\n",
        "    }\n",
        "  }\n",
        "  return 0;\n",
        "}"
      ],
      "metadata": {
        "colab": {
          "base_uri": "https://localhost:8080/"
        },
        "id": "40aHAlRBhv_l",
        "outputId": "a718a893-3c54-4f94-8864-36b82986d76a"
      },
      "execution_count": null,
      "outputs": [
        {
          "output_type": "stream",
          "name": "stdout",
          "text": [
            "Writing vector_reserve.cpp\n"
          ]
        }
      ]
    },
    {
      "cell_type": "code",
      "source": [
        "%%shell\n",
        "g++ vector_reserve.cpp\n",
        "./a.out\n"
      ],
      "metadata": {
        "colab": {
          "base_uri": "https://localhost:8080/"
        },
        "id": "cOAZpk1Nmus_",
        "outputId": "6ca7563c-24c8-41e6-8b85-5ef917073e97"
      },
      "execution_count": null,
      "outputs": [
        {
          "output_type": "stream",
          "name": "stdout",
          "text": [
            "making foo grow:\n",
            "capacity changed: 1\n",
            "capacity changed: 2\n",
            "capacity changed: 4\n",
            "capacity changed: 8\n",
            "capacity changed: 16\n",
            "capacity changed: 32\n",
            "capacity changed: 64\n",
            "capacity changed: 128\n",
            "making bar grow:\n",
            "capacity changed: 100\n"
          ]
        },
        {
          "output_type": "execute_result",
          "data": {
            "text/plain": [
              ""
            ]
          },
          "metadata": {},
          "execution_count": 49
        }
      ]
    },
    {
      "cell_type": "markdown",
      "source": [
        "**resize**\n",
        "\n",
        "* Resizes the container so that it contains n elements\n",
        "\n",
        "* If n is smaller than the current container size, the content is reduced to its first n elements, removing those beyond (and destroying them).\n",
        "\n",
        "* If n is greater than the current container size, the content is expanded by inserting at the end as many elements as needed to reach a size of n. If val is specified, the new elements are initialized as copies of val, otherwise, they are value-initialized.\n",
        "\n",
        "* If n is also greater than the current container capacity, an automatic reallocation of the allocated storage space takes place.\n",
        "\n",
        "* Notice that this function changes the actual content of the container by inserting or erasing elements from it.\n"
      ],
      "metadata": {
        "id": "uCde1GAkoX9K"
      }
    },
    {
      "cell_type": "code",
      "source": [
        "%%writefile resize_vector.cpp\n",
        "// resizing vector\n",
        "#include <iostream>\n",
        "#include <vector>\n",
        "using namespace std;\n",
        "int main ()\n",
        "{\n",
        "  vector<int> myvector;\n",
        "\n",
        "  // set some initial content:\n",
        "  for (int i=1;i<10;i++) myvector.push_back(i);\n",
        "\n",
        "  myvector.resize(5);\n",
        "  myvector.resize(8,100);\n",
        "  myvector.resize(12);\n",
        "\n",
        "  cout << \"myvector contains:\";\n",
        "  for (int i=0;i<myvector.size();i++)\n",
        "    cout << ' ' << myvector[i];\n",
        "  cout << '\\n';\n",
        "\n",
        "  return 0;\n",
        "}"
      ],
      "metadata": {
        "colab": {
          "base_uri": "https://localhost:8080/"
        },
        "id": "-EK-ixoIm3Be",
        "outputId": "8bcbb666-2ace-4360-d04e-fc72a27f26a9"
      },
      "execution_count": null,
      "outputs": [
        {
          "output_type": "stream",
          "name": "stdout",
          "text": [
            "Overwriting resize_vector.cpp\n"
          ]
        }
      ]
    },
    {
      "cell_type": "code",
      "source": [
        "%%shell\n",
        "g++ resize_vector.cpp\n",
        "./a.out"
      ],
      "metadata": {
        "colab": {
          "base_uri": "https://localhost:8080/"
        },
        "id": "J3ZEdKdoqiEZ",
        "outputId": "1a229d4c-39c8-44e9-c2b5-ce790f1888dd"
      },
      "execution_count": null,
      "outputs": [
        {
          "output_type": "stream",
          "name": "stdout",
          "text": [
            "myvector contains: 1 2 3 4 5 100 100 100 0 0 0 0\n"
          ]
        },
        {
          "output_type": "execute_result",
          "data": {
            "text/plain": [
              ""
            ]
          },
          "metadata": {},
          "execution_count": 53
        }
      ]
    },
    {
      "cell_type": "markdown",
      "source": [
        "**shrink_fit**\n",
        "\n",
        "* Requests the container to reduce its capacity to fit its size.\n",
        "\n",
        "* The request is non-binding, and the container implementation is free to optimize otherwise and leave the vector with a capacity greater than its size.\n",
        "\n",
        "* This may cause a reallocation, but has no effect on the vector size and cannot alter its elements."
      ],
      "metadata": {
        "id": "VgVAS0Q_rI6q"
      }
    },
    {
      "cell_type": "code",
      "source": [
        "%%writefile shrink_to_fit.cpp\n",
        "// vector::shrink_to_fit\n",
        "#include <iostream>\n",
        "#include <vector>\n",
        "using namespace std;\n",
        "int main ()\n",
        "{\n",
        "  vector<int> myvector (100);\n",
        "  cout << \"1. capacity of myvector: \" << myvector.capacity() << '\\n';\n",
        "\n",
        "  myvector.resize(10);\n",
        "  cout << \"2. capacity of myvector: \" << myvector.capacity() << '\\n';\n",
        "\n",
        "  myvector.shrink_to_fit();\n",
        "  cout << \"3. capacity of myvector: \" << myvector.capacity() << '\\n';\n",
        "\n",
        "  return 0;\n",
        "}"
      ],
      "metadata": {
        "colab": {
          "base_uri": "https://localhost:8080/"
        },
        "id": "rI3RTjtWqqNy",
        "outputId": "960dfb41-5627-426c-be69-6e4391190ab6"
      },
      "execution_count": null,
      "outputs": [
        {
          "output_type": "stream",
          "name": "stdout",
          "text": [
            "Writing shrink_to_fit.cpp\n"
          ]
        }
      ]
    },
    {
      "cell_type": "code",
      "source": [
        "%%shell\n",
        "g++ shrink_to_fit.cpp\n",
        "./a.out"
      ],
      "metadata": {
        "colab": {
          "base_uri": "https://localhost:8080/"
        },
        "id": "uKDcAf7XrlKg",
        "outputId": "ca05c4a8-b438-46d9-d021-e0dd38459c8c"
      },
      "execution_count": null,
      "outputs": [
        {
          "output_type": "stream",
          "name": "stdout",
          "text": [
            "1. capacity of myvector: 100\n",
            "2. capacity of myvector: 100\n",
            "3. capacity of myvector: 10\n"
          ]
        },
        {
          "output_type": "execute_result",
          "data": {
            "text/plain": [
              ""
            ]
          },
          "metadata": {},
          "execution_count": 55
        }
      ]
    },
    {
      "cell_type": "markdown",
      "source": [
        "##**Swap vectors**"
      ],
      "metadata": {
        "id": "0_pBV_4_JAEY"
      }
    },
    {
      "cell_type": "markdown",
      "source": [
        "**swap**\n",
        "* Exchanges the content of the container by the content of x, which is another vector object of the same type. Sizes may differ.\n",
        "* After the call to this member function, the elements in this container are those which were in x before the call, and the elements of x are those which were in this\n",
        "* All iterators, references and pointers remain valid for the swapped objects.\n"
      ],
      "metadata": {
        "id": "E4eujA3LI8Kp"
      }
    },
    {
      "cell_type": "code",
      "source": [
        "%%writefile swap_vectors.cpp\n",
        "#include <iostream>\n",
        "#include <vector>\n",
        "\n",
        "int main ()\n",
        "{\n",
        "  std::vector<int> foo (3,100);   // three ints with a value of 100\n",
        "  std::vector<int> bar (5,200);   // five ints with a value of 200\n",
        "\n",
        "  foo.swap(bar);\n",
        "\n",
        "  std::cout << \"foo contains:\";\n",
        "  for (unsigned i=0; i<foo.size(); i++)\n",
        "    std::cout << ' ' << foo[i];\n",
        "  std::cout << '\\n';\n",
        "\n",
        "  std::cout << \"bar contains:\";\n",
        "  for (unsigned i=0; i<bar.size(); i++)\n",
        "    std::cout << ' ' << bar[i];\n",
        "  std::cout << '\\n';\n",
        "\n",
        "  return 0;\n",
        "}"
      ],
      "metadata": {
        "id": "k2fR9YXCrrLi",
        "colab": {
          "base_uri": "https://localhost:8080/"
        },
        "outputId": "b873de4d-7729-4f28-e52a-525bbc5bae51"
      },
      "execution_count": 1,
      "outputs": [
        {
          "output_type": "stream",
          "name": "stdout",
          "text": [
            "Writing swap_vectors.cpp\n"
          ]
        }
      ]
    },
    {
      "cell_type": "code",
      "source": [
        "%%shell\n",
        "g++ swap_vectors.cpp\n",
        "./a.out"
      ],
      "metadata": {
        "colab": {
          "base_uri": "https://localhost:8080/"
        },
        "id": "74kqAJvlKeAG",
        "outputId": "ab7a7362-0746-49a7-aa03-1f2b20aaf2d0"
      },
      "execution_count": 3,
      "outputs": [
        {
          "output_type": "stream",
          "name": "stdout",
          "text": [
            "foo contains: 200 200 200 200 200\n",
            "bar contains: 100 100 100\n"
          ]
        },
        {
          "output_type": "execute_result",
          "data": {
            "text/plain": [
              ""
            ]
          },
          "metadata": {},
          "execution_count": 3
        }
      ]
    },
    {
      "cell_type": "markdown",
      "source": [
        "## **Deletion in vectors**"
      ],
      "metadata": {
        "id": "xWbApUjVMzTq"
      }
    },
    {
      "cell_type": "markdown",
      "source": [
        "**clear**\n",
        "* Removes all elements from the vector (which are destroyed), leaving the container with a size of 0.\n",
        "* Reallocation is not guaranteed to happen, and the vector capacity is not guaranteed to change due to calling this function. \n",
        "* Alternative that forces a reallocation is to use swap:\n",
        "\n",
        "vector<T>().swap(x);   // clear x reallocating \n",
        "\n",
        "\t\n"
      ],
      "metadata": {
        "id": "gZ01uAeAoC32"
      }
    },
    {
      "cell_type": "code",
      "source": [
        "%%writefile clear_vector.cpp\n",
        "// clearing vectors\n",
        "#include <iostream>\n",
        "#include <vector>\n",
        "using namespace std;\n",
        "int main ()\n",
        "{\n",
        "  vector<int> myvector;\n",
        "  myvector.push_back (100);\n",
        "  myvector.push_back (200);\n",
        "  myvector.push_back (300);\n",
        "\n",
        "  cout << \"myvector contains:\";\n",
        "  for (unsigned i=0; i<myvector.size(); i++)\n",
        "    std::cout << ' ' << myvector[i];\n",
        "  cout << '\\n';\n",
        "\n",
        "  myvector.clear();\n",
        "  /*myvector.push_back (1101);\n",
        "  myvector.push_back (2202);*/\n",
        "\n",
        "  cout << \"myvector contains after clear:\";\n",
        "  for (unsigned i=0; i<myvector.size(); i++)\n",
        "    cout << ' ' << myvector[i];\n",
        "  cout << '\\n';\n",
        "\n",
        "  return 0;\n",
        "}"
      ],
      "metadata": {
        "colab": {
          "base_uri": "https://localhost:8080/"
        },
        "id": "NDI-1T2qKn6V",
        "outputId": "f1ce2d9b-d03b-4959-8d91-b92f7a9e9055"
      },
      "execution_count": 14,
      "outputs": [
        {
          "output_type": "stream",
          "name": "stdout",
          "text": [
            "Overwriting clear_vector.cpp\n"
          ]
        }
      ]
    },
    {
      "cell_type": "code",
      "source": [
        "%%shell\n",
        "g++ clear_vector.cpp\n",
        "./a.out"
      ],
      "metadata": {
        "colab": {
          "base_uri": "https://localhost:8080/"
        },
        "id": "HsmDmMFfom4C",
        "outputId": "5465dd3a-24b0-4456-84ea-44492d90cfe9"
      },
      "execution_count": 15,
      "outputs": [
        {
          "output_type": "stream",
          "name": "stdout",
          "text": [
            "myvector contains: 100 200 300\n",
            "myvector contains after clear:\n"
          ]
        },
        {
          "output_type": "execute_result",
          "data": {
            "text/plain": [
              ""
            ]
          },
          "metadata": {},
          "execution_count": 15
        }
      ]
    },
    {
      "cell_type": "markdown",
      "source": [
        "**pop_back**\n",
        "\n",
        "* Removes the last element in the vector, effectively reducing the container size by one.\n",
        "* This destroys the removed element\n"
      ],
      "metadata": {
        "id": "Y_RBS5c9pD5O"
      }
    },
    {
      "cell_type": "code",
      "source": [
        "%%writefile vector_pop_back.cpp\n",
        "// vector::pop_back\n",
        "#include <iostream>\n",
        "#include <vector>\n",
        "using namespace std;\n",
        "int main ()\n",
        "{\n",
        "  vector<int> myvector;\n",
        "  int sum (0);\n",
        "  myvector.push_back (100);\n",
        "  myvector.push_back (200);\n",
        "  myvector.push_back (300);\n",
        "\n",
        "  while (!myvector.empty())\n",
        "  {\n",
        "    sum+=myvector.back();\n",
        "    myvector.pop_back();\n",
        "  }\n",
        "\n",
        "  cout << \"The elements of myvector add up to \" << sum << '\\n';\n",
        "  cout<<\"Size of container is \"<<myvector.size()<<endl;\n",
        "\n",
        "  return 0;\n",
        "}"
      ],
      "metadata": {
        "colab": {
          "base_uri": "https://localhost:8080/"
        },
        "id": "sEGlWioQor_E",
        "outputId": "779d15d1-9077-4af0-d142-3d858b03f392"
      },
      "execution_count": 16,
      "outputs": [
        {
          "output_type": "stream",
          "name": "stdout",
          "text": [
            "Overwriting vector_pop_back.cpp\n"
          ]
        }
      ]
    },
    {
      "cell_type": "code",
      "source": [
        "%%shell\n",
        "g++ vector_pop_back.cpp\n",
        "./a.out"
      ],
      "metadata": {
        "colab": {
          "base_uri": "https://localhost:8080/"
        },
        "id": "tSa_K86vpV0X",
        "outputId": "dd0f3be6-ef9e-4db0-89c7-4fdbbae7b7b3"
      },
      "execution_count": 17,
      "outputs": [
        {
          "output_type": "stream",
          "name": "stdout",
          "text": [
            "The elements of myvector add up to 600\n",
            "Size of container is 0\n"
          ]
        },
        {
          "output_type": "execute_result",
          "data": {
            "text/plain": [
              ""
            ]
          },
          "metadata": {},
          "execution_count": 17
        }
      ]
    },
    {
      "cell_type": "markdown",
      "source": [
        "**erase**\n",
        "\n",
        "* Removes from the vector either a single element (position) or a range of elements ([first,last))\n",
        "\n",
        "* effectively reduces the container size by the number of elements removed, which are destroyed\n",
        "\n",
        "* Returns an iterator pointing to the new location of the element that followed the last element erased by the function call"
      ],
      "metadata": {
        "id": "Hew6cNmLrfJd"
      }
    },
    {
      "cell_type": "code",
      "source": [
        "%%writefile erase_vector.cpp\n",
        "// erasing from vector\n",
        "#include <iostream>\n",
        "#include <vector>\n",
        "using namespace std;\n",
        "int main ()\n",
        "{\n",
        "  vector<int> myvector;\n",
        "\n",
        "  // set some values (from 1 to 10)\n",
        "  for (int i=1; i<=10; i++) myvector.push_back(i);\n",
        "\n",
        "  // erase the 6th element\n",
        "  myvector.erase (myvector.begin()+5);\n",
        "\n",
        "  // erase the first 3 elements:\n",
        "  myvector.erase (myvector.begin(),myvector.begin()+3);\n",
        "\n",
        "  cout << \"myvector contains:\";\n",
        "  for (unsigned i=0; i<myvector.size(); ++i)\n",
        "    cout << ' ' << myvector[i];\n",
        "  cout << '\\n';\n",
        "\n",
        "  return 0;\n",
        "}"
      ],
      "metadata": {
        "colab": {
          "base_uri": "https://localhost:8080/"
        },
        "id": "RrERuan9pg6m",
        "outputId": "833cb61f-03cf-4d9e-9a92-ec45a9d78d6a"
      },
      "execution_count": 18,
      "outputs": [
        {
          "output_type": "stream",
          "name": "stdout",
          "text": [
            "Writing erase_vector.cpp\n"
          ]
        }
      ]
    },
    {
      "cell_type": "code",
      "source": [
        "%%shell\n",
        "g++ erase_vector.cpp\n",
        "./a.out"
      ],
      "metadata": {
        "colab": {
          "base_uri": "https://localhost:8080/"
        },
        "id": "edpPW93XyN35",
        "outputId": "4f23cbf2-b283-4728-bdcd-992514b6459b"
      },
      "execution_count": 19,
      "outputs": [
        {
          "output_type": "stream",
          "name": "stdout",
          "text": [
            "myvector contains: 4 5 7 8 9 10\n"
          ]
        },
        {
          "output_type": "execute_result",
          "data": {
            "text/plain": [
              ""
            ]
          },
          "metadata": {},
          "execution_count": 19
        }
      ]
    },
    {
      "cell_type": "markdown",
      "source": [
        ""
      ],
      "metadata": {
        "id": "d_n1U2wNyv9U"
      }
    },
    {
      "cell_type": "markdown",
      "source": [
        "## **Iterators**"
      ],
      "metadata": {
        "id": "1ipxi4mFywWY"
      }
    },
    {
      "cell_type": "markdown",
      "source": [
        "**begin**\n",
        "\n",
        "* Returns an iterator pointing to the first element in the vector\n",
        "*  unlike member vector::front, which returns a reference to the first element, this function returns a random access iterator pointing to it\n",
        "* If the container is empty, the returned iterator value shall not be dereferenced\n"
      ],
      "metadata": {
        "id": "dguWwqbAy2I0"
      }
    },
    {
      "cell_type": "markdown",
      "source": [
        "**end**\n",
        "* Returns an iterator referring to the past-the-end element in the vector container.\n",
        "\n",
        "* The past-the-end element is the theoretical element that would follow the last element in the vector. It does not point to any element, and thus shall not be dereferenced.\n",
        "* If the container is empty, this function returns the same as vector::begin."
      ],
      "metadata": {
        "id": "kNM365dBz28z"
      }
    },
    {
      "cell_type": "code",
      "source": [
        "%%writefile vector_begin_end.cpp\n",
        "// vector::begin/end\n",
        "#include <iostream>\n",
        "#include <vector>\n",
        "\n",
        "int main ()\n",
        "{\n",
        "  std::vector<int> myvector;\n",
        "  for (int i=1; i<=5; i++) myvector.push_back(i);\n",
        "\n",
        "  std::cout << \"myvector contains:\";\n",
        "  for (std::vector<int>::iterator it = myvector.begin() ; it != myvector.end(); ++it)\n",
        "    std::cout << ' ' << *it;\n",
        "  std::cout << '\\n';\n",
        "\n",
        "  return 0;\n",
        "}"
      ],
      "metadata": {
        "colab": {
          "base_uri": "https://localhost:8080/"
        },
        "id": "H5ECEOLYyQo6",
        "outputId": "b863c2a6-c435-4f54-a5fd-b9b1f8909c79"
      },
      "execution_count": 20,
      "outputs": [
        {
          "output_type": "stream",
          "name": "stdout",
          "text": [
            "Writing vector_begin_end.cpp\n"
          ]
        }
      ]
    },
    {
      "cell_type": "code",
      "source": [
        "%%shell\n",
        "g++ vector_begin_end.cpp\n",
        "./a.out"
      ],
      "metadata": {
        "colab": {
          "base_uri": "https://localhost:8080/"
        },
        "id": "-Pu6D7uK0MKb",
        "outputId": "a7d27998-6332-47da-a828-431e56d73e2a"
      },
      "execution_count": 21,
      "outputs": [
        {
          "output_type": "stream",
          "name": "stdout",
          "text": [
            "myvector contains: 1 2 3 4 5\n"
          ]
        },
        {
          "output_type": "execute_result",
          "data": {
            "text/plain": [
              ""
            ]
          },
          "metadata": {},
          "execution_count": 21
        }
      ]
    },
    {
      "cell_type": "markdown",
      "source": [
        "**rbegin**\n",
        "* Returns a reverse iterator pointing to the last element in the vector (i.e., its reverse beginning).\n",
        "\n",
        "* Reverse iterators iterate backwards: increasing them moves them towards the beginning of the container.\n",
        "\n",
        "* rbegin points to the element right before the one that would be pointed to by member end.\n",
        "\n",
        "* Unlike member vector::back, which returns a reference to this same element, this function returns a reverse random access iterator."
      ],
      "metadata": {
        "id": "w0fEBp3U0T56"
      }
    },
    {
      "cell_type": "markdown",
      "source": [
        "**rend**\n",
        "* Return reverse iterator to reverse end\n",
        "* Returns a reverse iterator pointing to the theoretical element preceding the first element in the vector (which is considered its reverse end).\n",
        "\n",
        "* The range between vector::rbegin and vector::rend contains all the elements of the vector (in reverse order)."
      ],
      "metadata": {
        "id": "ZeBYAODM0xFF"
      }
    },
    {
      "cell_type": "code",
      "source": [
        "%%writefile rbegin_vector.cpp\n",
        "// vector::rbegin/rend\n",
        "#include <iostream>\n",
        "#include <vector>\n",
        "\n",
        "int main ()\n",
        "{\n",
        "  std::vector<int> myvector (5);  // 5 default-constructed ints\n",
        "\n",
        "  std::vector<int>::reverse_iterator rit = myvector.rbegin();\n",
        "\n",
        "  int i=0;\n",
        "  for (rit = myvector.rbegin(); rit!= myvector.rend(); ++rit)\n",
        "    *rit = ++i;\n",
        "\n",
        "  std::cout << \"myvector contains:\";\n",
        "  for (std::vector<int>::iterator it = myvector.begin(); it != myvector.end(); ++it)\n",
        "    std::cout << ' ' << *it;\n",
        "  std::cout << '\\n';\n",
        "\n",
        "  return 0;\n",
        "}"
      ],
      "metadata": {
        "colab": {
          "base_uri": "https://localhost:8080/"
        },
        "id": "mkBl6jlK0RIE",
        "outputId": "630b0b00-bc9b-4269-ff1e-ec7aa20128fd"
      },
      "execution_count": 22,
      "outputs": [
        {
          "output_type": "stream",
          "name": "stdout",
          "text": [
            "Writing rbegin_vector.cpp\n"
          ]
        }
      ]
    },
    {
      "cell_type": "code",
      "source": [
        "%%shell\n",
        "g++ rbegin_vector.cpp\n",
        "./a.out"
      ],
      "metadata": {
        "colab": {
          "base_uri": "https://localhost:8080/"
        },
        "id": "WhxCye4u1h20",
        "outputId": "f7d692d1-84ca-4aeb-b7ad-d2ea277ca113"
      },
      "execution_count": 23,
      "outputs": [
        {
          "output_type": "stream",
          "name": "stdout",
          "text": [
            "myvector contains: 5 4 3 2 1\n"
          ]
        },
        {
          "output_type": "execute_result",
          "data": {
            "text/plain": [
              ""
            ]
          },
          "metadata": {},
          "execution_count": 23
        }
      ]
    },
    {
      "cell_type": "markdown",
      "source": [
        "**cbegin**\n",
        "* Return const_iterator to beginning\n",
        "* Returns a const_iterator pointing to the first element in the container.\n",
        "* A const_iterator is an iterator that points to const content. This iterator can be increased and decreased (unless it is itself also const), just like the iterator returned by vector::begin, but it cannot be used to modify the contents it points to, even if the vector object is not itself const.\n",
        "\n",
        "* If the container is empty, the returned iterator value shall not be dereferenced."
      ],
      "metadata": {
        "id": "00M6o7-h1qEM"
      }
    },
    {
      "cell_type": "markdown",
      "source": [
        "**cend**\n",
        "* Return const_iterator to end\n",
        "* Returns a const_iterator pointing to the past-the-end element in the container.\n",
        "\n",
        "* A const_iterator is an iterator that points to const content. This iterator can be increased and decreased (unless it is itself also const), just like the iterator returned by vector::end, but it cannot be used to modify the contents it points to, even if the vector object is not itself const.\n",
        "\n",
        "* If the container is empty, this function returns the same as vector::cbegin.\n",
        "\n",
        "* The value returned shall not be dereferenced."
      ],
      "metadata": {
        "id": "rSyKYHqW15vV"
      }
    },
    {
      "cell_type": "code",
      "source": [
        "%%writefile cbegin_cend.cpp\n",
        "// vector::cbegin/cend\n",
        "#include <iostream>\n",
        "#include <vector>\n",
        "\n",
        "int main ()\n",
        "{\n",
        "  std::vector<int> myvector = {10,20,30,40,50};\n",
        "\n",
        "  std::cout << \"myvector contains:\";\n",
        "\n",
        "  for (auto it = myvector.cbegin(); it != myvector.cend(); ++it)\n",
        "    std::cout << ' ' << *it;\n",
        "  std::cout << '\\n';\n",
        "\n",
        "  return 0;\n",
        "}"
      ],
      "metadata": {
        "colab": {
          "base_uri": "https://localhost:8080/"
        },
        "id": "H8qS7ONq2KEa",
        "outputId": "ec3cffcb-fee9-4799-83e7-95e1ff654f7e"
      },
      "execution_count": 24,
      "outputs": [
        {
          "output_type": "stream",
          "name": "stdout",
          "text": [
            "Writing cbegin_cend.cpp\n"
          ]
        }
      ]
    },
    {
      "cell_type": "code",
      "source": [
        "%%shell\n",
        "g++ cbegin_cend.cpp\n",
        "./a.out"
      ],
      "metadata": {
        "colab": {
          "base_uri": "https://localhost:8080/"
        },
        "id": "HzFydcKl2Sxz",
        "outputId": "69665684-2a64-4988-9c70-840d8f684e4e"
      },
      "execution_count": 25,
      "outputs": [
        {
          "output_type": "stream",
          "name": "stdout",
          "text": [
            "myvector contains: 10 20 30 40 50\n"
          ]
        },
        {
          "output_type": "execute_result",
          "data": {
            "text/plain": [
              ""
            ]
          },
          "metadata": {},
          "execution_count": 25
        }
      ]
    },
    {
      "cell_type": "markdown",
      "source": [
        "**crbegin**\n",
        "* Return const_reverse_iterator to reverse beginning\n",
        "* Returns a const_reverse_iterator pointing to the last element in the container (i.e., its reverse beginning)."
      ],
      "metadata": {
        "id": "nb5YVd4O1qcH"
      }
    },
    {
      "cell_type": "markdown",
      "source": [
        "**crend**\n",
        "* Return const_reverse_iterator to reverse end\n",
        "* Returns a const_reverse_iterator pointing to the theoretical element preceding the first element in the container (which is considered its reverse end)."
      ],
      "metadata": {
        "id": "Gn3xevsc1qgf"
      }
    },
    {
      "cell_type": "code",
      "source": [
        "%%writefile rbegin_rend.cpp\n",
        "// vector::crbegin/crend\n",
        "#include <iostream>\n",
        "#include <vector>\n",
        "\n",
        "int main ()\n",
        "{\n",
        "  std::vector<int> myvector = {1,2,3,4,5};\n",
        "\n",
        "  std::cout << \"myvector backwards:\";\n",
        "  for (auto rit = myvector.crbegin(); rit != myvector.crend(); ++rit)\n",
        "    std::cout << ' ' << *rit;\n",
        "  std::cout << '\\n';\n",
        "\n",
        "  return 0;\n",
        "}"
      ],
      "metadata": {
        "colab": {
          "base_uri": "https://localhost:8080/"
        },
        "id": "E6pJl4gy1kwF",
        "outputId": "6fe9e54b-37af-493f-86d3-e9d3921c5e7f"
      },
      "execution_count": 26,
      "outputs": [
        {
          "output_type": "stream",
          "name": "stdout",
          "text": [
            "Writing rbegin_rend.cpp\n"
          ]
        }
      ]
    },
    {
      "cell_type": "code",
      "source": [
        "%%shell\n",
        "g++ rbegin_rend.cpp\n",
        "./a.out"
      ],
      "metadata": {
        "colab": {
          "base_uri": "https://localhost:8080/"
        },
        "id": "keXTE8923n20",
        "outputId": "a08b9849-26b4-4a94-a3ee-a67a7ea00e59"
      },
      "execution_count": 27,
      "outputs": [
        {
          "output_type": "stream",
          "name": "stdout",
          "text": [
            "myvector backwards: 5 4 3 2 1\n"
          ]
        },
        {
          "output_type": "execute_result",
          "data": {
            "text/plain": [
              ""
            ]
          },
          "metadata": {},
          "execution_count": 27
        }
      ]
    },
    {
      "cell_type": "code",
      "source": [
        ""
      ],
      "metadata": {
        "id": "aF0uyRdF3sHu"
      },
      "execution_count": null,
      "outputs": []
    }
  ]
}